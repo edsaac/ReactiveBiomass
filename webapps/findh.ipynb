{
 "cells": [
  {
   "cell_type": "code",
   "execution_count": 8,
   "metadata": {},
   "outputs": [],
   "source": [
    "import numpy as np\n",
    "\n",
    "## Globals\n",
    "α = 2.79 #1/m\n",
    "θs = 0.385\n",
    "θr = 0.012\n",
    "n = 7.26\n",
    "m = 1 - 1/n\n",
    "Ks = 2.07E-4  #m/s\n",
    "qtarget = 3.32E-6 #m/s\n",
    "\n",
    "def vanGenuchten(h:np.array) -> np.array:\n",
    "    θe = np.where(\n",
    "        h >= 0,\n",
    "        1.0,\n",
    "        np.power(1 + np.power(α*h*np.sign(h), n), -m)\n",
    "    )\n",
    "    return θe\n",
    "\n",
    "def waterSaturation(h:np.array) -> np.array:\n",
    "    θe = vanGenuchten(h)\n",
    "    θ = θe * (θs - θr) + θr\n",
    "    return θ\n",
    "\n",
    "def mualemPermeability(h:np.array) -> np.array:\n",
    "    θe = vanGenuchten(h)\n",
    "    kr = np.sqrt(θe) * np.power(1-np.power(1-np.power(θe, 1/m), m), 2)\n",
    "    return kr\n",
    "\n",
    "def capillarity(h) -> np.array:\n",
    "    x = np.where(\n",
    "        h >= 0,\n",
    "        0.0,\n",
    "        α*m*n * np.power(α*h*np.sign(h), n-1) * np.power(1 + np.power(α*h*np.sign(h), n), -m-1)\n",
    "        )\n",
    "    x *= (θs - θr)\n",
    "    return x"
   ]
  },
  {
   "cell_type": "code",
   "execution_count": 9,
   "metadata": {},
   "outputs": [],
   "source": [
    "def my_bisection(f, a, b, tol): \n",
    "    # approximates a root, R, of f bounded \n",
    "    # by a and b to within tolerance \n",
    "    # | f(m) | < tol with m the midpoint \n",
    "    # between a and b Recursive implementation\n",
    "    \n",
    "    # check if a and b bound a root\n",
    "    if np.sign(f(a)) == np.sign(f(b)):\n",
    "        raise Exception(\n",
    "         \"The scalars a and b do not bound a root\")\n",
    "        \n",
    "    # get midpoint\n",
    "    m = (a + b)/2\n",
    "    \n",
    "    if np.abs(f(m)) < tol:\n",
    "        # stopping condition, report m as root\n",
    "        return m\n",
    "    elif np.sign(f(a)) == np.sign(f(m)):\n",
    "        # case where m is an improvement on a. \n",
    "        # Make recursive call with a = m\n",
    "        return my_bisection(f, m, b, tol)\n",
    "    elif np.sign(f(b)) == np.sign(f(m)):\n",
    "        # case where m is an improvement on b. \n",
    "        # Make recursive call with b = m\n",
    "        return my_bisection(f, a, m, tol)"
   ]
  },
  {
   "cell_type": "code",
   "execution_count": 48,
   "metadata": {},
   "outputs": [
    {
     "data": {
      "text/plain": [
       "-0.057525634765625"
      ]
     },
     "execution_count": 48,
     "metadata": {},
     "output_type": "execute_result"
    }
   ],
   "source": [
    "kn = 0.016039\n",
    "def hydraulic_cond(h):\n",
    "    return qtarget - Ks * mualemPermeability(h) * kn\n",
    "\n",
    "my_bisection(hydraulic_cond, -10, 0, 1e-12)"
   ]
  },
  {
   "cell_type": "code",
   "execution_count": null,
   "metadata": {},
   "outputs": [],
   "source": []
  }
 ],
 "metadata": {
  "kernelspec": {
   "display_name": "venv",
   "language": "python",
   "name": "python3"
  },
  "language_info": {
   "codemirror_mode": {
    "name": "ipython",
    "version": 3
   },
   "file_extension": ".py",
   "mimetype": "text/x-python",
   "name": "python",
   "nbconvert_exporter": "python",
   "pygments_lexer": "ipython3",
   "version": "3.10.12"
  },
  "orig_nbformat": 4
 },
 "nbformat": 4,
 "nbformat_minor": 2
}
