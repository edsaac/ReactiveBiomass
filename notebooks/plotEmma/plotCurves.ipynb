{
 "cells": [
  {
   "cell_type": "code",
   "execution_count": 1,
   "metadata": {},
   "outputs": [],
   "source": [
    "import numpy as np\n",
    "import pandas as pd\n",
    "import matplotlib.pyplot as plt"
   ]
  },
  {
   "cell_type": "code",
   "execution_count": 9,
   "metadata": {},
   "outputs": [],
   "source": [
    "pathToFile = r\"./data/Dataset-01.xlsx\"\n",
    "keysToSearch = [\"Effluent\",\"Influent\",\"Standard\"]\n",
    "\n",
    "allData = {k:None for k in keysToSearch}\n",
    "for key in keysToSearch:\n",
    "    allData[key] = pd.read_excel(pathToFile,sheet_name=key)\n",
    "\n",
    "pathToFile = r\"./data/Time.xlsx\"\n",
    "time = pd.read_excel(pathToFile,sheet_name=\"Time\",index_col=\"Sample ID\")"
   ]
  },
  {
   "cell_type": "code",
   "execution_count": 6,
   "metadata": {},
   "outputs": [],
   "source": [
    "data = allData[\"Effluent\"]"
   ]
  },
  {
   "cell_type": "code",
   "execution_count": 10,
   "metadata": {},
   "outputs": [],
   "source": [
    "strConc = 'Calculated Concentration (ng/mL)'\n",
    "groupSamples = data[[\"Sample Name\",strConc]].groupby(by=[\"Sample Name\"],as_index=True,sort=False)"
   ]
  },
  {
   "cell_type": "code",
   "execution_count": 13,
   "metadata": {},
   "outputs": [],
   "source": [
    "statistics = pd.concat([time[[\"Cumulative Time (min)\"]],\n",
    "                        groupSamples.mean().rename(columns={strConc:\"mean\"}),\n",
    "                        groupSamples.std().rename(columns={strConc:\"std\"}),\n",
    "                        groupSamples.count().rename(columns={strConc:\"nSamples\"})], axis = 1)"
   ]
  },
  {
   "cell_type": "code",
   "execution_count": 16,
   "metadata": {},
   "outputs": [
    {
     "data": {
      "text/html": [
       "<div>\n",
       "<style scoped>\n",
       "    .dataframe tbody tr th:only-of-type {\n",
       "        vertical-align: middle;\n",
       "    }\n",
       "\n",
       "    .dataframe tbody tr th {\n",
       "        vertical-align: top;\n",
       "    }\n",
       "\n",
       "    .dataframe thead th {\n",
       "        text-align: right;\n",
       "    }\n",
       "</style>\n",
       "<table border=\"1\" class=\"dataframe\">\n",
       "  <thead>\n",
       "    <tr style=\"text-align: right;\">\n",
       "      <th></th>\n",
       "      <th>Cumulative Time (min)</th>\n",
       "      <th>mean</th>\n",
       "      <th>std</th>\n",
       "      <th>nSamples</th>\n",
       "    </tr>\n",
       "  </thead>\n",
       "  <tbody>\n",
       "    <tr>\n",
       "      <th>RSSCT-1-198</th>\n",
       "      <td>5019.358872</td>\n",
       "      <td>0.180100</td>\n",
       "      <td>0.081387</td>\n",
       "      <td>3</td>\n",
       "    </tr>\n",
       "    <tr>\n",
       "      <th>RSSCT-1-200</th>\n",
       "      <td>5068.265000</td>\n",
       "      <td>0.191333</td>\n",
       "      <td>0.037112</td>\n",
       "      <td>3</td>\n",
       "    </tr>\n",
       "  </tbody>\n",
       "</table>\n",
       "</div>"
      ],
      "text/plain": [
       "             Cumulative Time (min)      mean       std  nSamples\n",
       "RSSCT-1-198            5019.358872  0.180100  0.081387         3\n",
       "RSSCT-1-200            5068.265000  0.191333  0.037112         3"
      ]
     },
     "execution_count": 16,
     "metadata": {},
     "output_type": "execute_result"
    }
   ],
   "source": [
    "statistics.tail(2)"
   ]
  },
  {
   "cell_type": "code",
   "execution_count": 17,
   "metadata": {},
   "outputs": [
    {
     "name": "stderr",
     "output_type": "stream",
     "text": [
      "/home/edsaa/venv/lib/python3.9/site-packages/numpy/core/_methods.py:44: RuntimeWarning: invalid value encountered in reduce\n",
      "  return umr_minimum(a, axis, None, out, keepdims, initial, where)\n",
      "/home/edsaa/venv/lib/python3.9/site-packages/numpy/core/_methods.py:40: RuntimeWarning: invalid value encountered in reduce\n",
      "  return umr_maximum(a, axis, None, out, keepdims, initial, where)\n",
      "No artists with labels found to put in legend.  Note that artists whose label start with an underscore are ignored when legend() is called with no argument.\n"
     ]
    },
    {
     "data": {
      "image/png": "[encoded data removed]",
      "text/plain": [
       "<Figure size 432x288 with 1 Axes>"
      ]
     },
     "metadata": {
      "needs_background": "light"
     },
     "output_type": "display_data"
    }
   ],
   "source": [
    "fig,ax = plt.subplots()\n",
    "#ax.plot(averages[\"Effluent\"][strConc],label='PFOA',lw=0,marker='.')\n",
    "ax.errorbar(np.arange(len(statistics)),statistics[\"mean\"],statistics[\"std\"],\n",
    "            lw=0,c='k',marker=\"o\",ecolor='gray',elinewidth=1,capsize=3)\n",
    "ax.set_xlabel(\"Index\")\n",
    "ax.set_ylabel(strConc)\n",
    "ax.legend()\n",
    "ax.spines['top'].set_visible(False)\n",
    "ax.spines['right'].set_visible(False)\n",
    "plt.show()"
   ]
  },
  {
   "cell_type": "code",
   "execution_count": null,
   "metadata": {},
   "outputs": [],
   "source": []
  }
 ],
 "metadata": {
  "kernelspec": {
   "display_name": "Python 3.9.5 ('venv')",
   "language": "python",
   "name": "python3"
  },
  "language_info": {
   "codemirror_mode": {
    "name": "ipython",
    "version": 3
   },
   "file_extension": ".py",
   "mimetype": "text/x-python",
   "name": "python",
   "nbconvert_exporter": "python",
   "pygments_lexer": "ipython3",
   "version": "3.9.5"
  },
  "orig_nbformat": 4,
  "vscode": {
   "interpreter": {
    "hash": "8f62a988d0078ce54b44b9110a71f93c38ba1feabf8ee2b2fa419091e683527d"
   }
  }
 },
 "nbformat": 4,
 "nbformat_minor": 2
}
