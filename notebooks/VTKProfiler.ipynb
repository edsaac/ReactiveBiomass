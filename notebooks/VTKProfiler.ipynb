{
 "cells": [
  {
   "cell_type": "code",
   "execution_count": 1,
   "id": "1c45eec0-bcc3-4a18-9103-860ff99b73b5",
   "metadata": {},
   "outputs": [],
   "source": [
    "import numpy as np\n",
    "import matplotlib.pyplot as plt\n",
    "import matplotlib as mpl\n",
    "import pandas as pd\n",
    "import os\n",
    "import pickle\n",
    "import pyvista as pv"
   ]
  },
  {
   "cell_type": "code",
   "execution_count": 2,
   "id": "bf427fe6-ddc2-4d54-ae19-390a4e787625",
   "metadata": {},
   "outputs": [],
   "source": [
    "with open('ExperimentalData.pkl','rb') as f:\n",
    "    ExperimentalData = pickle.load(f)"
   ]
  },
  {
   "cell_type": "code",
   "execution_count": 3,
   "id": "baa72f80-e19f-40dc-9516-a6e210bc385c",
   "metadata": {},
   "outputs": [],
   "source": [
    "## Pyvista global settings\n",
    "pv.set_plot_theme(\"document\")\n",
    "#pv.set_jupyter_backend('static')\n",
    "pv.set_jupyter_backend('ipygany')\n",
    "pv.global_theme.transparent_background = False\n",
    "pv.global_theme.show_scalar_bar = True"
   ]
  },
  {
   "cell_type": "code",
   "execution_count": 4,
   "id": "be77ceb5-ef6f-4226-8a9b-28edf110f35a",
   "metadata": {},
   "outputs": [],
   "source": [
    "## Matplotlib global settings\n",
    "plt.rcParams[\"font.family\"] = \"ubuntu-light\"\n",
    "plt.rcParams[\"axes.labelsize\"] = 12\n",
    "plt.rcParams[\"axes.labelweight\"] = 'bold'\n",
    "plt.rcParams[\"axes.labelcolor\"] = 'k'\n",
    "plt.rcParams[\"axes.labelpad\"] = 10\n",
    "plt.rcParams[\"legend.fontsize\"] = 12\n",
    "plt.rcParams['xtick.color'] = 'dimgray'\n",
    "plt.rcParams['ytick.color'] = 'dimgray'"
   ]
  },
  {
   "cell_type": "markdown",
   "id": "fbb78506-6b1c-45f6-a2c3-49090292f857",
   "metadata": {},
   "source": [
    "| α/dp | 0.05 | 0.15 | 0.35 | 0.50 |\n",
    "|:----:|:----:|:----:|:----:|:----:|\n",
    "|  5.0 |   1  |   2  |      |   3  |\n",
    "|  7.5 |      |   4  |      |      |\n",
    "| 10.0 |      |   5  |      |  7,8 |\n",
    "| 15.0 |      |   5  |  9   |      |\n",
    "| 20.0 |      |   6  |      |      |"
   ]
  },
  {
   "cell_type": "code",
   "execution_count": 5,
   "id": "203694ac-5c33-4950-a0ef-067b10813f2c",
   "metadata": {},
   "outputs": [],
   "source": [
    "LESRESULTS = {f\"deploy{i}\":f\"deployFull{i}/VTK/deployFull{i}_23138487.vtk\" for i in range(1,10)}\n",
    "RASRESULTS = {f\"deploy{i}\":f\"deployFull{i}_RANS/VTK/deployFull{i}_RANS_9360.vtk\" for i in range(1,10)}"
   ]
  },
  {
   "cell_type": "code",
   "execution_count": 6,
   "id": "18b4ce08-ecf9-4322-a0b7-459dec400ec6",
   "metadata": {},
   "outputs": [],
   "source": [
    "folderName = r'/home/edsaa/nuModel/tempResults/'\n",
    "fileName = LESRESULTS['deploy9']\n",
    "#fileName = RASRESULTS['deploy9']\n",
    "\n",
    "filePath = os.path.join(folderName,fileName)\n",
    "grid = pv.read(filePath)"
   ]
  },
  {
   "cell_type": "code",
   "execution_count": 7,
   "id": "b0a38a66-9489-4b39-b2c0-53e6028ce2f4",
   "metadata": {},
   "outputs": [],
   "source": [
    "grid.set_active_scalars('percentClay',preference='point')\n",
    "grid['modPer'] = [max(i,0,0) for i in grid.active_scalars]"
   ]
  },
  {
   "cell_type": "code",
   "execution_count": 8,
   "id": "78099a25-ee24-476b-9a26-416e99ff9438",
   "metadata": {},
   "outputs": [],
   "source": [
    "clipPoint  = (0,-0.05,0)\n",
    "slicePoint = (0,0,0.28)\n",
    "translatePoint = (0.15, 0, 0)\n",
    "\n",
    "grid_A = grid.clip(normal='y',origin=clipPoint,invert=False).slice(normal='z',origin=slicePoint)\n",
    "grid_B = grid_A.copy()\n",
    "grid_B.translate(translatePoint)"
   ]
  },
  {
   "cell_type": "code",
   "execution_count": 9,
   "id": "6e108a19-1726-42d4-8033-22c1fbe8043c",
   "metadata": {},
   "outputs": [],
   "source": [
    "for g in [grid_A,grid_B]: g.set_active_scalars('modPer',preference='point')"
   ]
  },
  {
   "cell_type": "code",
   "execution_count": 10,
   "id": "45b28d33-4b3f-424c-9179-ed12e945e779",
   "metadata": {},
   "outputs": [],
   "source": [
    "CLIM = [0.0,0.12]\n",
    "CMAP = 'viridis'\n",
    "NCOL = 128"
   ]
  },
  {
   "cell_type": "code",
   "execution_count": 11,
   "id": "265b9fe7-8020-4036-a99c-e0aa032337ac",
   "metadata": {},
   "outputs": [],
   "source": [
    "# Initialize plotter\n",
    "plotter = pv.Plotter(off_screen=False)\n",
    "plotter.parallel_projection = False\n",
    "kw_add_mesh = dict(scalars='modPer',n_colors=NCOL,cmap=CMAP,clim=CLIM,\\\n",
    "                   opacity=[0.15,1.0],use_transparency=False,lighting=False,ambient=0)"
   ]
  },
  {
   "cell_type": "code",
   "execution_count": 12,
   "id": "f39965cf-f5cd-4edb-a560-7ce565064ca8",
   "metadata": {},
   "outputs": [
    {
     "data": {
      "text/plain": [
       "<vtkmodules.vtkRenderingAnnotation.vtkAxesActor(0x4787780) at 0x7f7a9283fb80>"
      ]
     },
     "execution_count": 12,
     "metadata": {},
     "output_type": "execute_result"
    }
   ],
   "source": [
    "# Add information to plotter\n",
    "plotter.add_mesh(grid_A,**kw_add_mesh)\n",
    "plotter.add_mesh(grid_B,**kw_add_mesh)\n",
    "plotter.add_axes()"
   ]
  },
  {
   "cell_type": "code",
   "execution_count": 13,
   "id": "192f9b1c-3cc0-49fb-bc29-5f9b5c57909c",
   "metadata": {},
   "outputs": [],
   "source": [
    "# Add planes\n",
    "z = slicePoint[2]-0.01\n",
    "cores_planes = [[pv.Line((x,-0.05,z),(x,0.02,z)) for x in [0.10,0.13]],\n",
    "                [pv.Line((x,-0.05,z),(x,0.02,z)) for x in [0.14,0.17]],\n",
    "                [pv.Line((x,-0.05,z),(x,0.02,z)) for x in [0.18,0.21]],\n",
    "                [pv.Line((x,-0.05,z),(x,0.02,z)) for x in [0.22,0.25]]]"
   ]
  },
  {
   "cell_type": "code",
   "execution_count": 14,
   "id": "6c4aecb8-ee5a-4f4e-9775-dad9b2bea663",
   "metadata": {},
   "outputs": [],
   "source": [
    "cores_id = ['Core A','Core B','Core C','Core D']\n",
    "core_color = ['r','g','b','orange']\n",
    "\n",
    "for core,color in zip(cores_planes,core_color):\n",
    "    for line in core:\n",
    "        plotter.add_mesh(line,color=color,line_width=2)"
   ]
  },
  {
   "cell_type": "code",
   "execution_count": 15,
   "id": "e1c49f47-1d8a-46a3-830f-e464ce622fe8",
   "metadata": {},
   "outputs": [],
   "source": [
    "# Camera position\n",
    "## A list of three points: [eyeposition, focal point, where is up]\n",
    "## Could also use 'xy', 'xz' etc.\n",
    "cpos = [(translatePoint[0]*1.15,clipPoint[1]/2,slicePoint[2]*1.75),\n",
    "        (translatePoint[0]*1.15,clipPoint[1]/2,0),\n",
    "        (0,1,0)]\n",
    "#cpos = 'xy'"
   ]
  },
  {
   "cell_type": "code",
   "execution_count": 16,
   "id": "ced6ee69-6f52-429a-800e-b10deae7f1b6",
   "metadata": {},
   "outputs": [
    {
     "name": "stderr",
     "output_type": "stream",
     "text": [
      "/home/edsaa/.local/lib/python3.8/site-packages/traittypes/traittypes.py:97: UserWarning: Given trait value dtype \"float32\" does not match required type \"float64\". A coerced copy has been created.\n",
      "  warnings.warn(\n"
     ]
    },
    {
     "data": {
      "application/vnd.jupyter.widget-view+json": {
       "model_id": "a61e8656341b4520ac6bc6a1bf8b8c9c",
       "version_major": 2,
       "version_minor": 0
      },
      "text/plain": [
       "AppLayout(children=(VBox(children=(HTML(value='<h3>modPer</h3>'), Dropdown(description='Colormap:', options={'…"
      ]
     },
     "metadata": {},
     "output_type": "display_data"
    }
   ],
   "source": [
    "plotter.show()"
   ]
  },
  {
   "cell_type": "raw",
   "id": "420b6d12-1659-4dd7-8610-0d83da1e73a1",
   "metadata": {},
   "source": [
    "# Show a snapshot\n",
    "#plotter.show(window_size=[800,600],cpos=cpos,return_img=True)\n",
    "plotter.show()"
   ]
  },
  {
   "cell_type": "raw",
   "id": "97e5bf7d-9d7b-4816-b277-4879b0cc55ce",
   "metadata": {},
   "source": [
    "plt.rcParams[\"font.family\"] = \"Lato\"\n",
    "\n",
    "x = np.linspace(CLIM[0], CLIM[1]*100, 100)\n",
    "cmap = plt.get_cmap(CMAP,NCOL)\n",
    "norm = mpl.colors.Normalize(vmin=CLIM[0],vmax=CLIM[1]*100)\n",
    "sm = plt.cm.ScalarMappable(cmap=cmap, norm=norm)\n",
    "#sm.set_array([])\n",
    "\n",
    "fig = plt.figure(figsize=[5,4])\n",
    "mainax  = fig.add_axes([0, 0, 1, 1],frame_on=False)\n",
    "ax = fig.add_axes([0, 0, 1, 1],frame_on=False)\n",
    "cax = fig.add_axes([0.25, 0.18, 0.5, 0.05],frame_on=False)\n",
    "\n",
    "#hide x-axis\n",
    "for a in [mainax,ax]:\n",
    "    a.get_xaxis().set_visible(False)\n",
    "    a.get_yaxis().set_visible(False)\n",
    "\n",
    "ax.imshow(plotter.image,aspect='equal')\n",
    "plt.colorbar(sm, cax=cax, ticks=np.linspace(CLIM[0],CLIM[1]*100,5),orientation='horizontal')\n",
    "cax.set(title='Clay content (%)')\n",
    "loc = ax.get_window_extent()\n",
    "plt.show()"
   ]
  },
  {
   "cell_type": "raw",
   "id": "509b64f8-a6d3-400e-8fc1-7977a3ad9247",
   "metadata": {},
   "source": [
    "grid"
   ]
  },
  {
   "cell_type": "code",
   "execution_count": 18,
   "id": "62d20541-133d-48c7-9608-23e6fc281a9b",
   "metadata": {
    "tags": []
   },
   "outputs": [
    {
     "data": {
      "image/png": "[encoded data removed]",
      "text/plain": [
       "<Figure size 576x288 with 4 Axes>"
      ]
     },
     "metadata": {
      "needs_background": "light"
     },
     "output_type": "display_data"
    }
   ],
   "source": [
    "resx = 8\n",
    "cores_x = [np.linspace(0.10,0.13,resx),\n",
    "           np.concatenate((np.linspace(0.14,0.15,4),np.linspace(0.01,0.02,4))),\n",
    "           np.linspace(0.03,0.06,resx),\n",
    "           np.linspace(0.07,0.10,resx)]\n",
    "\n",
    "fig,axs = plt.subplots(1,4,sharey=True,sharex=True,gridspec_kw={'wspace':0.05},figsize=[8,4])\n",
    "\n",
    "for i,core in enumerate(cores_x):\n",
    "    pC_accum,y_accum = [],[]\n",
    "    for x in core:\n",
    "        line_bottom,line_top = (x,-0.10,0.145),(x, 0.06,0.145)\n",
    "        samples = grid.sample_over_line(line_top,line_bottom,resolution=50)\n",
    "        pC = np.ma.masked_where(samples['vtkValidPointMask']<1.0,samples['modPer'])\n",
    "        pC *= 100\n",
    "        y  = np.ma.masked_where(samples['vtkValidPointMask']<1.0,samples.points[:,1])\n",
    "        pC_accum.append(pC)\n",
    "        y_accum.append(y)\n",
    "        littleLine = axs[i].plot(pC,y,color=core_color[i],alpha=0.1,lw=2,zorder=1)\n",
    "        \n",
    "    pC_accum = np.ma.stack(pC_accum,axis=0)\n",
    "    meanPc = pC_accum.mean(axis=0)\n",
    "    y_accum = np.ma.stack(y_accum,axis=0)\n",
    "    meanY = y_accum.mean(axis=0)\n",
    "    #axs[i].plot(meanPc,meanY,color='k',alpha=0.9,lw=2,ls='-')\n",
    "    bigLine = axs[i].plot(meanPc,meanY,color=core_color[i],alpha=0.9,lw=4,ls='-',zorder=3)\n",
    "    \n",
    "    #stdPc = pC_accum.std(axis=0)\n",
    "    #axs[i].plot(meanPc+stdPc,meanY,color=core_color[i],alpha=0.9,lw=2,ls='-')\n",
    "    #axs[i].plot(meanPc-stdPc,meanY,color=core_color[i],alpha=0.9,lw=2,ls='-')\n",
    "\n",
    "for ax in axs: \n",
    "    ax.spines['top'].set_visible(False)\n",
    "    ax.spines['right'].set_visible(False)\n",
    "    ax.spines['left'].set_color('darkgray')\n",
    "    ax.spines['bottom'].set_color('darkgray')\n",
    "    \n",
    "axs[0].set_ylim([-0.025,0.009])\n",
    "axs[0].set_xlim([-0.4,5.0])\n",
    "axs[0].set_yticks([0.005,0,-0.005,-0.01,-0.015,-0.02])\n",
    "axs[0].set_yticklabels(['','0','','-1','','-2'])\n",
    "\n",
    "fig.supxlabel('Clay content (%)',y=-0.01)\n",
    "fig.supylabel('Z (cm)')\n",
    "\n",
    "## Measurements\n",
    "experiment = ExperimentalData['Neutral']\n",
    "ycores = ExperimentalData['Y']\n",
    "ccores = ExperimentalData['Neutral']['C']\n",
    "scores = ExperimentalData['Neutral']['std']\n",
    "\n",
    "for y,cv,sv,ax in zip(ycores,ccores,scores,axs):\n",
    "    dy = 0.5E-2\n",
    "    y1 = y\n",
    "    y2 = y - dy\n",
    "    for c,s in zip(cv,sv):\n",
    "        linecollection = ax.vlines(c,y2,y1,colors='k',zorder=4)\n",
    "        ym = (y1+y2)/2\n",
    "        ax.hlines(ym,c-s,c+s,colors='k',zorder=4)\n",
    "        y1 -= dy\n",
    "        y2 -= dy\n",
    "\n",
    "axs[-1].legend([linecollection]+bigLine+littleLine,\n",
    "               ['Experimental result','Mean profile','A single profile'],\n",
    "               loc='lower center',ncol=3)\n",
    "#plt.savefig(\"ProfilingLES.svg\")\n",
    "plt.show()"
   ]
  },
  {
   "cell_type": "code",
   "execution_count": null,
   "id": "1e0821c2-975b-4716-82e5-6fc27a86bdcc",
   "metadata": {},
   "outputs": [],
   "source": []
  },
  {
   "cell_type": "code",
   "execution_count": null,
   "id": "23a0ea30-b58b-411e-97ac-959473026f91",
   "metadata": {},
   "outputs": [],
   "source": []
  }
 ],
 "metadata": {
  "kernelspec": {
   "display_name": "Python 3 (ipykernel)",
   "language": "python",
   "name": "python3"
  },
  "language_info": {
   "codemirror_mode": {
    "name": "ipython",
    "version": 3
   },
   "file_extension": ".py",
   "mimetype": "text/x-python",
   "name": "python",
   "nbconvert_exporter": "python",
   "pygments_lexer": "ipython3",
   "version": "3.8.10"
  }
 },
 "nbformat": 4,
 "nbformat_minor": 5
}
