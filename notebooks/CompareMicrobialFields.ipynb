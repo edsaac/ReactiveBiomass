{
 "cells": [
  {
   "cell_type": "markdown",
   "id": "c910b9d7",
   "metadata": {},
   "source": [
    "# Build a compare view\n",
    "\n",
    "Requires:\n",
    "- Two VTK files for a given timestep\n",
    "- A line segment"
   ]
  },
  {
   "cell_type": "code",
   "execution_count": null,
   "id": "1c45eec0-bcc3-4a18-9103-860ff99b73b5",
   "metadata": {},
   "outputs": [],
   "source": [
    "import numpy as np\n",
    "import pandas as pd\n",
    "import matplotlib.pyplot as plt\n",
    "import matplotlib as mpl\n",
    "import pyvista as pv\n",
    "import os, subprocess, pickle\n",
    "import pickle"
   ]
  },
  {
   "cell_type": "code",
   "execution_count": null,
   "id": "35bb8272",
   "metadata": {},
   "outputs": [],
   "source": [
    "REPO_PATH = subprocess.check_output(['git', 'rev-parse', '--show-toplevel']).decode('utf-8').strip()\n",
    "plt.style.use(f'{REPO_PATH}/misc/edwin.mplstyle')"
   ]
  },
  {
   "cell_type": "code",
   "execution_count": null,
   "id": "baa72f80-e19f-40dc-9516-a6e210bc385c",
   "metadata": {},
   "outputs": [],
   "source": [
    "## Pyvista global settings\n",
    "pv.set_plot_theme(\"document\")\n",
    "pv.set_jupyter_backend('static')\n",
    "#pv.set_jupyter_backend('ipygany')\n",
    "pv.global_theme.transparent_background = False\n",
    "pv.global_theme.show_scalar_bar = True"
   ]
  },
  {
   "cell_type": "code",
   "execution_count": null,
   "id": "18b4ce08-ecf9-4322-a0b7-459dec400ec6",
   "metadata": {},
   "outputs": [],
   "source": [
    "RASfile = os.path.join(REPO_PATH,\"notebooks/HighDOC_NonZeroStart/2.0NonZeroInitCondition_7152.vtk\")\n",
    "LESfile = os.path.join(REPO_PATH,\"notebooks/HighDOC_NonZeroStart/2.1NonZeroLESRun_22100222.vtk\")\n",
    "\n",
    "#vtkfile = os.path.join(REPO_PATH,\"notebooks/LowDOC_reviewInititConc_17280.vtk\")\n",
    "\n",
    "RASgrid = pv.read(RASfile)\n",
    "LESgrid = pv.read(LESfile)"
   ]
  },
  {
   "cell_type": "code",
   "execution_count": null,
   "id": "e87b1e79",
   "metadata": {},
   "outputs": [],
   "source": [
    "listOfSpecies = ['O2','DOC','NO3','NH4']\n",
    "listOfAliveBiomass = ['XAR','XN','XDN']\n",
    "listOfDeadBiomass  = ['EPS','XI']"
   ]
  },
  {
   "cell_type": "code",
   "execution_count": 39,
   "id": "63b8d741",
   "metadata": {},
   "outputs": [],
   "source": [
    "colorbar_kw = dict(width=0.15, height=0.05, position_y=0.02, fmt='%.2E', label_font_size=14, n_labels=3)\n",
    "addmesh_kw  = dict(log_scale=True, cmap='plasma', show_scalar_bar=True)\n",
    "fileForPNG = \"CompareMicrobialFields.png\"\n",
    "\n",
    "plotter = pv.Plotter(window_size=[800,850])\n",
    "\n",
    "clim_arg = dict(xar = (1E-8,2E-1), xdn = (3E-5,5E-4), xn = (5E-6,1E-4))\n",
    "\n",
    "slice_xar_ras = RASgrid.slice(normal='z')\n",
    "slice_xar_ras.set_active_scalars('XAR',preference='point')\n",
    "colorbar_kw['position_x'] = 0.05\n",
    "plotter.add_mesh(slice_xar_ras, scalars='XAR', clim=clim_arg['xar'],\n",
    "                 scalar_bar_args=colorbar_kw, **addmesh_kw)\n",
    "#plotter.add_text(\"XAR\",position=(233,650),font_size=12)\n",
    "\n",
    "slice_xar_les = LESgrid.slice(normal='z')\n",
    "slice_xar_les.translate((0, -0.21, 0), inplace=True)\n",
    "slice_xar_les.set_active_scalars('XAR',preference='point')\n",
    "colorbar_kw['position_x'] = 0.05\n",
    "plotter.add_mesh(slice_xar_les, scalars='XAR', clim=clim_arg['xar'],\n",
    "                 scalar_bar_args=colorbar_kw, **addmesh_kw)\n",
    "\n",
    "\n",
    "slice_xdn_ras = RASgrid.slice(normal='z')\n",
    "slice_xdn_ras.translate((0.16, 0, 0), inplace=True)\n",
    "slice_xdn_ras.set_active_scalars('XDN',preference='point')\n",
    "colorbar_kw['position_x'] = 0.34\n",
    "plotter.add_mesh(slice_xdn_ras, scalars='XDN', clim=clim_arg['xdn'],\n",
    "                 scalar_bar_args=colorbar_kw, **addmesh_kw)\n",
    "#plotter.add_text(\"XDN\",position=(700,650),font_size=12)\n",
    "\n",
    "slice_xdn_les = LESgrid.slice(normal='z')\n",
    "slice_xdn_les.translate((0.16, -0.21, 0), inplace=True)\n",
    "slice_xdn_les.set_active_scalars('XDN',preference='point')\n",
    "colorbar_kw['position_x'] = 0.34\n",
    "plotter.add_mesh(slice_xdn_les, scalars='XDN', clim=clim_arg['xdn'],\n",
    "                 scalar_bar_args=colorbar_kw, **addmesh_kw)\n",
    "\n",
    "\n",
    "slice_xn_ras = RASgrid.slice(normal='z')\n",
    "slice_xn_ras.translate((0.32, 0, 0), inplace=True)\n",
    "slice_xn_ras.set_active_scalars('XN',preference='point')\n",
    "colorbar_kw['position_x'] = 0.67\n",
    "plotter.add_mesh(slice_xn_ras, scalars='XN', clim=clim_arg['xn'],\n",
    "                 scalar_bar_args=colorbar_kw, **addmesh_kw)\n",
    "#plotter.add_text(\"XN\",position=(933,650),font_size=12)\n",
    "\n",
    "slice_xn_les = LESgrid.slice(normal='z')\n",
    "slice_xn_les.translate((0.32, -0.21, 0), inplace=True)\n",
    "slice_xn_les.set_active_scalars('XN',preference='point')\n",
    "colorbar_kw['position_x'] = 0.67\n",
    "plotter.add_mesh(slice_xn_les, scalars='XN', clim=clim_arg['xn'],\n",
    "                 scalar_bar_args=colorbar_kw, **addmesh_kw)\n",
    "\n",
    "plotter.view_xy()\n",
    "plotter.enable_parallel_projection()\n",
    "plotter.camera.zoom(1.3)\n",
    "plotter.screenshot(f\"vtk_{fileForPNG}\",transparent_background=True);\n",
    "#os.system(f\"xclip -se c -t image/png -i vtk_{fileForPNG}\")\n",
    "#plotter.show()"
   ]
  },
  {
   "cell_type": "code",
   "execution_count": null,
   "id": "715c1895",
   "metadata": {},
   "outputs": [],
   "source": []
  }
 ],
 "metadata": {
  "interpreter": {
   "hash": "31f2aee4e71d21fbe5cf8b01ff0e069b9275f58929596ceb00d14d90e3e16cd6"
  },
  "kernelspec": {
   "display_name": "Python 3.8.10 64-bit",
   "language": "python",
   "name": "python3"
  },
  "language_info": {
   "codemirror_mode": {
    "name": "ipython",
    "version": 3
   },
   "file_extension": ".py",
   "mimetype": "text/x-python",
   "name": "python",
   "nbconvert_exporter": "python",
   "pygments_lexer": "ipython3",
   "version": "3.8.10"
  }
 },
 "nbformat": 4,
 "nbformat_minor": 5
}
