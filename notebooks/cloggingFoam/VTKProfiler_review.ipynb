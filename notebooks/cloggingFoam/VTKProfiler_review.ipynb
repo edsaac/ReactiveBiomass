{
 "cells": [
  {
   "cell_type": "code",
   "execution_count": 1,
   "id": "1c45eec0-bcc3-4a18-9103-860ff99b73b5",
   "metadata": {},
   "outputs": [],
   "source": [
    "import numpy as np\n",
    "import matplotlib.pyplot as plt\n",
    "import matplotlib as mpl\n",
    "import pandas as pd\n",
    "import os\n",
    "import pickle\n",
    "import pyvista as pv"
   ]
  },
  {
   "cell_type": "code",
   "execution_count": 2,
   "id": "bf427fe6-ddc2-4d54-ae19-390a4e787625",
   "metadata": {},
   "outputs": [],
   "source": [
    "with open('ExperimentalData.pkl','rb') as f:\n",
    "    ExperimentalData = pickle.load(f)"
   ]
  },
  {
   "cell_type": "code",
   "execution_count": 21,
   "id": "baa72f80-e19f-40dc-9516-a6e210bc385c",
   "metadata": {},
   "outputs": [],
   "source": [
    "## Pyvista global settings\n",
    "pv.set_plot_theme(\"document\")\n",
    "pv.set_jupyter_backend('static')\n",
    "#pv.set_jupyter_backend('ipygany')\n",
    "pv.global_theme.transparent_background = False\n",
    "pv.global_theme.show_scalar_bar = True"
   ]
  },
  {
   "cell_type": "code",
   "execution_count": 22,
   "id": "be77ceb5-ef6f-4226-8a9b-28edf110f35a",
   "metadata": {},
   "outputs": [],
   "source": [
    "## Matplotlib global settings\n",
    "plt.rcParams[\"font.family\"] = \"ubuntu-light\"\n",
    "plt.rcParams[\"axes.labelsize\"] = 12\n",
    "plt.rcParams[\"axes.labelweight\"] = 'bold'\n",
    "plt.rcParams[\"axes.labelcolor\"] = 'k'\n",
    "plt.rcParams[\"axes.labelpad\"] = 10\n",
    "plt.rcParams[\"legend.fontsize\"] = 12\n",
    "plt.rcParams['xtick.color'] = 'dimgray'\n",
    "plt.rcParams['ytick.color'] = 'dimgray'"
   ]
  },
  {
   "cell_type": "markdown",
   "id": "fbb78506-6b1c-45f6-a2c3-49090292f857",
   "metadata": {},
   "source": [
    "| α/dp | 0.05 | 0.15 | 0.35 | 0.50 |\n",
    "|:----:|:----:|:----:|:----:|:----:|\n",
    "|  5.0 |   1  |   2  |      |   3  |\n",
    "|  7.5 |      |   4  |      |      |\n",
    "| 10.0 |      |   5  |      |  7,8 |\n",
    "| 15.0 |      |   5  |  9   |      |\n",
    "| 20.0 |      |   6  |      |      |"
   ]
  },
  {
   "cell_type": "raw",
   "id": "1b1653dc",
   "metadata": {},
   "source": [
    "LESRESULTS = {f\"deploy{i}\":f\"deployFull{i}/VTK/deployFull{i}_23138487.vtk\" for i in range(1,10)}\n",
    "RASRESULTS = {f\"deploy{i}\":f\"deployFull{i}_RANS/VTK/deployFull{i}_RANS_9360.vtk\" for i in range(1,10)}"
   ]
  },
  {
   "cell_type": "code",
   "execution_count": 23,
   "id": "18b4ce08-ecf9-4322-a0b7-459dec400ec6",
   "metadata": {},
   "outputs": [],
   "source": [
    "folderName = r'/home/edsaa/nuModel/tempResults_review/refactored_dp9.LES/VTK/'\n",
    "fileName = r'refactored_dp9.LES_21729412.vtk'\n",
    "#fileName = RASRESULTS['deploy9']\n",
    "\n",
    "filePath = os.path.join(folderName,fileName)\n",
    "grid = pv.read(filePath)"
   ]
  },
  {
   "cell_type": "code",
   "execution_count": 24,
   "id": "b0a38a66-9489-4b39-b2c0-53e6028ce2f4",
   "metadata": {},
   "outputs": [],
   "source": [
    "grid.set_active_scalars('depositedClay',preference='point')"
   ]
  },
  {
   "cell_type": "code",
   "execution_count": 25,
   "id": "ca77197f",
   "metadata": {},
   "outputs": [
    {
     "data": {
      "text/html": [
       "<table><tr><th>Header</th><th>Data Arrays</th></tr><tr><td>\n",
       "<table>\n",
       "<tr><th>UnstructuredGrid</th><th>Information</th></tr>\n",
       "<tr><td>N Cells</td><td>3300</td></tr>\n",
       "<tr><td>N Points</td><td>6834</td></tr>\n",
       "<tr><td>X Bounds</td><td>0.000e+00, 1.500e-01</td></tr>\n",
       "<tr><td>Y Bounds</td><td>-2.000e-01, 7.663e-03</td></tr>\n",
       "<tr><td>Z Bounds</td><td>0.000e+00, 2.900e-01</td></tr>\n",
       "<tr><td>N Arrays</td><td>21</td></tr>\n",
       "</table>\n",
       "\n",
       "</td><td>\n",
       "<table>\n",
       "<tr><th>Name</th><th>Field</th><th>Type</th><th>N Comp</th><th>Min</th><th>Max</th></tr>\n",
       "<tr><td>katt</td><td>Points</td><td>float32</td><td>1</td><td>1.435e-07</td><td>1.677e-02</td></tr>\n",
       "<tr><td>Lambda</td><td>Points</td><td>float32</td><td>1</td><td>1.093e+02</td><td>1.293e+02</td></tr>\n",
       "<tr><td>perm</td><td>Points</td><td>float32</td><td>1</td><td>1.348e-11</td><td>1.019e-10</td></tr>\n",
       "<tr><td><b>depositedClay</b></td><td>Points</td><td>float32</td><td>1</td><td>0.000e+00</td><td>1.576e+02</td></tr>\n",
       "<tr><td>hMean</td><td>Points</td><td>float32</td><td>1</td><td>-1.266e-04</td><td>2.125e-04</td></tr>\n",
       "<tr><td>n</td><td>Points</td><td>float32</td><td>1</td><td>1.881e-01</td><td>3.669e-01</td></tr>\n",
       "<tr><td>suspendedClay</td><td>Points</td><td>float32</td><td>1</td><td>0.000e+00</td><td>1.200e-01</td></tr>\n",
       "<tr><td>hPrime2Mean</td><td>Points</td><td>float32</td><td>1</td><td>8.451e-10</td><td>6.039e-08</td></tr>\n",
       "<tr><td>h</td><td>Points</td><td>float32</td><td>1</td><td>-4.748e-04</td><td>5.021e-04</td></tr>\n",
       "<tr><td>U</td><td>Points</td><td>float32</td><td>3</td><td>-2.434e-05</td><td>3.593e-05</td></tr>\n",
       "<tr><td>cellID</td><td>Cells</td><td>int32</td><td>1</td><td>0.000e+00</td><td>3.299e+03</td></tr>\n",
       "<tr><td>katt</td><td>Cells</td><td>float32</td><td>1</td><td>1.468e-07</td><td>1.427e-02</td></tr>\n",
       "<tr><td>Lambda</td><td>Cells</td><td>float32</td><td>1</td><td>1.261e+02</td><td>1.261e+02</td></tr>\n",
       "<tr><td>perm</td><td>Cells</td><td>float32</td><td>1</td><td>1.345e-11</td><td>9.940e-11</td></tr>\n",
       "<tr><td><b>depositedClay</b></td><td>Cells</td><td>float32</td><td>1</td><td>0.000e+00</td><td>1.578e+02</td></tr>\n",
       "<tr><td>hMean</td><td>Cells</td><td>float32</td><td>1</td><td>-1.112e-04</td><td>1.856e-04</td></tr>\n",
       "<tr><td>n</td><td>Cells</td><td>float32</td><td>1</td><td>2.077e-01</td><td>3.580e-01</td></tr>\n",
       "<tr><td>suspendedClay</td><td>Cells</td><td>float32</td><td>1</td><td>0.000e+00</td><td>1.066e-01</td></tr>\n",
       "<tr><td>hPrime2Mean</td><td>Cells</td><td>float32</td><td>1</td><td>9.362e-10</td><td>4.119e-08</td></tr>\n",
       "<tr><td>h</td><td>Cells</td><td>float32</td><td>1</td><td>-3.812e-04</td><td>4.042e-04</td></tr>\n",
       "<tr><td>U</td><td>Cells</td><td>float32</td><td>3</td><td>-2.679e-05</td><td>3.219e-05</td></tr>\n",
       "</table>\n",
       "\n",
       "</td></tr> </table>"
      ],
      "text/plain": [
       "UnstructuredGrid (0x7efee131efa0)\n",
       "  N Cells:\t3300\n",
       "  N Points:\t6834\n",
       "  X Bounds:\t0.000e+00, 1.500e-01\n",
       "  Y Bounds:\t-2.000e-01, 7.663e-03\n",
       "  Z Bounds:\t0.000e+00, 2.900e-01\n",
       "  N Arrays:\t21"
      ]
     },
     "execution_count": 25,
     "metadata": {},
     "output_type": "execute_result"
    }
   ],
   "source": [
    "grid"
   ]
  },
  {
   "cell_type": "code",
   "execution_count": 26,
   "id": "78099a25-ee24-476b-9a26-416e99ff9438",
   "metadata": {},
   "outputs": [
    {
     "name": "stderr",
     "output_type": "stream",
     "text": [
      "/home/edsaa/.local/lib/python3.8/site-packages/pyvista/core/pointset.py:204: PyvistaDeprecationWarning: You did not specify a value for `inplace` and the default value will be changing to `False` in future versions for point-based meshes (e.g., `PolyData`). Please make sure you are not assuming this to be an inplace operation.\n",
      "  warnings.warn(DEFAULT_INPLACE_WARNING, PyvistaDeprecationWarning)\n"
     ]
    },
    {
     "data": {
      "text/html": [
       "<table><tr><th>Header</th><th>Data Arrays</th></tr><tr><td>\n",
       "<table>\n",
       "<tr><th>PolyData</th><th>Information</th></tr>\n",
       "<tr><td>N Cells</td><td>974</td></tr>\n",
       "<tr><td>N Points</td><td>1040</td></tr>\n",
       "<tr><td>X Bounds</td><td>1.500e-01, 3.000e-01</td></tr>\n",
       "<tr><td>Y Bounds</td><td>-5.000e-02, 7.663e-03</td></tr>\n",
       "<tr><td>Z Bounds</td><td>2.800e-01, 2.800e-01</td></tr>\n",
       "<tr><td>N Arrays</td><td>21</td></tr>\n",
       "</table>\n",
       "\n",
       "</td><td>\n",
       "<table>\n",
       "<tr><th>Name</th><th>Field</th><th>Type</th><th>N Comp</th><th>Min</th><th>Max</th></tr>\n",
       "<tr><td>katt</td><td>Points</td><td>float32</td><td>1</td><td>5.130e-04</td><td>1.677e-02</td></tr>\n",
       "<tr><td>Lambda</td><td>Points</td><td>float32</td><td>1</td><td>1.093e+02</td><td>1.293e+02</td></tr>\n",
       "<tr><td>perm</td><td>Points</td><td>float32</td><td>1</td><td>1.348e-11</td><td>9.940e-11</td></tr>\n",
       "<tr><td><b>depositedClay</b></td><td>Points</td><td>float32</td><td>1</td><td>2.591e-10</td><td>1.576e+02</td></tr>\n",
       "<tr><td>hMean</td><td>Points</td><td>float32</td><td>1</td><td>-1.266e-04</td><td>2.125e-04</td></tr>\n",
       "<tr><td>n</td><td>Points</td><td>float32</td><td>1</td><td>1.881e-01</td><td>3.580e-01</td></tr>\n",
       "<tr><td>suspendedClay</td><td>Points</td><td>float32</td><td>1</td><td>1.361e-16</td><td>1.200e-01</td></tr>\n",
       "<tr><td>hPrime2Mean</td><td>Points</td><td>float32</td><td>1</td><td>9.560e-10</td><td>6.039e-08</td></tr>\n",
       "<tr><td>h</td><td>Points</td><td>float32</td><td>1</td><td>-4.748e-04</td><td>5.021e-04</td></tr>\n",
       "<tr><td>U</td><td>Points</td><td>float32</td><td>3</td><td>-2.434e-05</td><td>3.593e-05</td></tr>\n",
       "<tr><td>cellID</td><td>Cells</td><td>int32</td><td>1</td><td>0.000e+00</td><td>3.252e+03</td></tr>\n",
       "<tr><td>katt</td><td>Cells</td><td>float32</td><td>1</td><td>2.635e-04</td><td>1.427e-02</td></tr>\n",
       "<tr><td>Lambda</td><td>Cells</td><td>float32</td><td>1</td><td>1.261e+02</td><td>1.261e+02</td></tr>\n",
       "<tr><td>perm</td><td>Cells</td><td>float32</td><td>1</td><td>1.345e-11</td><td>9.940e-11</td></tr>\n",
       "<tr><td><b>depositedClay</b></td><td>Cells</td><td>float32</td><td>1</td><td>1.047e-10</td><td>1.578e+02</td></tr>\n",
       "<tr><td>hMean</td><td>Cells</td><td>float32</td><td>1</td><td>-1.112e-04</td><td>1.856e-04</td></tr>\n",
       "<tr><td>n</td><td>Cells</td><td>float32</td><td>1</td><td>2.077e-01</td><td>3.580e-01</td></tr>\n",
       "<tr><td>suspendedClay</td><td>Cells</td><td>float32</td><td>1</td><td>9.160e-17</td><td>1.066e-01</td></tr>\n",
       "<tr><td>hPrime2Mean</td><td>Cells</td><td>float32</td><td>1</td><td>9.585e-10</td><td>4.119e-08</td></tr>\n",
       "<tr><td>h</td><td>Cells</td><td>float32</td><td>1</td><td>-3.812e-04</td><td>4.042e-04</td></tr>\n",
       "<tr><td>U</td><td>Cells</td><td>float32</td><td>3</td><td>-2.679e-05</td><td>3.219e-05</td></tr>\n",
       "</table>\n",
       "\n",
       "</td></tr> </table>"
      ],
      "text/plain": [
       "PolyData (0x7efe596bdd00)\n",
       "  N Cells:\t974\n",
       "  N Points:\t1040\n",
       "  X Bounds:\t1.500e-01, 3.000e-01\n",
       "  Y Bounds:\t-5.000e-02, 7.663e-03\n",
       "  Z Bounds:\t2.800e-01, 2.800e-01\n",
       "  N Arrays:\t21"
      ]
     },
     "execution_count": 26,
     "metadata": {},
     "output_type": "execute_result"
    }
   ],
   "source": [
    "clipPoint  = (0,-0.05,0)\n",
    "slicePoint = (0,0,0.28)\n",
    "translatePoint = (0.15, 0, 0)\n",
    "\n",
    "grid_A = grid.clip(normal='y',origin=clipPoint,invert=False).slice(normal='z',origin=slicePoint)\n",
    "grid_B = grid_A.copy()\n",
    "grid_B.translate(translatePoint)"
   ]
  },
  {
   "cell_type": "code",
   "execution_count": 27,
   "id": "6e108a19-1726-42d4-8033-22c1fbe8043c",
   "metadata": {},
   "outputs": [],
   "source": [
    "for g in [grid_A,grid_B]: g.set_active_scalars('depositedClay',preference='point')"
   ]
  },
  {
   "cell_type": "code",
   "execution_count": 28,
   "id": "45b28d33-4b3f-424c-9179-ed12e945e779",
   "metadata": {},
   "outputs": [],
   "source": [
    "CLIM = [0.0,0.12]\n",
    "CMAP = 'viridis'\n",
    "NCOL = 128"
   ]
  },
  {
   "cell_type": "code",
   "execution_count": 29,
   "id": "265b9fe7-8020-4036-a99c-e0aa032337ac",
   "metadata": {},
   "outputs": [],
   "source": [
    "# Initialize plotter\n",
    "plotter = pv.Plotter(off_screen=False)\n",
    "plotter.parallel_projection = True\n",
    "kw_add_mesh = dict(scalars='depositedClay',n_colors=NCOL,cmap=CMAP,clim=CLIM,\\\n",
    "                   opacity=[0.15,1.0],use_transparency=False,lighting=False,ambient=0)"
   ]
  },
  {
   "cell_type": "code",
   "execution_count": 30,
   "id": "f39965cf-f5cd-4edb-a560-7ce565064ca8",
   "metadata": {},
   "outputs": [
    {
     "data": {
      "text/plain": [
       "<vtkmodules.vtkRenderingAnnotation.vtkAxesActor(0x3f6f000) at 0x7efecdc22580>"
      ]
     },
     "execution_count": 30,
     "metadata": {},
     "output_type": "execute_result"
    }
   ],
   "source": [
    "# Add information to plotter\n",
    "plotter.add_mesh(grid_A,**kw_add_mesh)\n",
    "plotter.add_mesh(grid_B,**kw_add_mesh)\n",
    "plotter.add_axes()"
   ]
  },
  {
   "cell_type": "code",
   "execution_count": 31,
   "id": "192f9b1c-3cc0-49fb-bc29-5f9b5c57909c",
   "metadata": {},
   "outputs": [],
   "source": [
    "# Add planes\n",
    "z = slicePoint[2]-0.01\n",
    "cores_planes = [[pv.Line((x,-0.05,z),(x,0.02,z)) for x in [0.10,0.13]],\n",
    "                [pv.Line((x,-0.05,z),(x,0.02,z)) for x in [0.14,0.17]],\n",
    "                [pv.Line((x,-0.05,z),(x,0.02,z)) for x in [0.18,0.21]],\n",
    "                [pv.Line((x,-0.05,z),(x,0.02,z)) for x in [0.22,0.25]]]"
   ]
  },
  {
   "cell_type": "code",
   "execution_count": 32,
   "id": "6c4aecb8-ee5a-4f4e-9775-dad9b2bea663",
   "metadata": {},
   "outputs": [],
   "source": [
    "cores_id = ['Core A','Core B','Core C','Core D']\n",
    "core_color = ['r','g','b','orange']\n",
    "\n",
    "for core,color in zip(cores_planes,core_color):\n",
    "    for line in core:\n",
    "        plotter.add_mesh(line,color=color,line_width=2)"
   ]
  },
  {
   "cell_type": "code",
   "execution_count": 33,
   "id": "e1c49f47-1d8a-46a3-830f-e464ce622fe8",
   "metadata": {},
   "outputs": [],
   "source": [
    "# Camera position\n",
    "## A list of three points: [eyeposition, focal point, where is up]\n",
    "## Could also use 'xy', 'xz' etc.\n",
    "cpos = [(translatePoint[0]*1.15,clipPoint[1]/2,slicePoint[2]*1.75),\n",
    "        (translatePoint[0]*1.15,clipPoint[1]/2,0),\n",
    "        (0,1,0)]\n",
    "#cpos = 'xy'"
   ]
  },
  {
   "cell_type": "code",
   "execution_count": 34,
   "id": "ced6ee69-6f52-429a-800e-b10deae7f1b6",
   "metadata": {},
   "outputs": [
    {
     "data": {
      "image/png": "[encoded data removed]",
      "text/plain": [
       "<PIL.Image.Image image mode=RGB size=1024x768>"
      ]
     },
     "metadata": {},
     "output_type": "display_data"
    }
   ],
   "source": [
    "plotter.show()"
   ]
  },
  {
   "cell_type": "raw",
   "id": "420b6d12-1659-4dd7-8610-0d83da1e73a1",
   "metadata": {},
   "source": [
    "# Show a snapshot\n",
    "#plotter.show(window_size=[800,600],cpos=cpos,return_img=True)\n",
    "plotter.show()"
   ]
  },
  {
   "cell_type": "raw",
   "id": "97e5bf7d-9d7b-4816-b277-4879b0cc55ce",
   "metadata": {},
   "source": [
    "plt.rcParams[\"font.family\"] = \"Lato\"\n",
    "\n",
    "x = np.linspace(CLIM[0], CLIM[1]*100, 100)\n",
    "cmap = plt.get_cmap(CMAP,NCOL)\n",
    "norm = mpl.colors.Normalize(vmin=CLIM[0],vmax=CLIM[1]*100)\n",
    "sm = plt.cm.ScalarMappable(cmap=cmap, norm=norm)\n",
    "#sm.set_array([])\n",
    "\n",
    "fig = plt.figure(figsize=[5,4])\n",
    "mainax  = fig.add_axes([0, 0, 1, 1],frame_on=False)\n",
    "ax = fig.add_axes([0, 0, 1, 1],frame_on=False)\n",
    "cax = fig.add_axes([0.25, 0.18, 0.5, 0.05],frame_on=False)\n",
    "\n",
    "#hide x-axis\n",
    "for a in [mainax,ax]:\n",
    "    a.get_xaxis().set_visible(False)\n",
    "    a.get_yaxis().set_visible(False)\n",
    "\n",
    "ax.imshow(plotter.image,aspect='equal')\n",
    "plt.colorbar(sm, cax=cax, ticks=np.linspace(CLIM[0],CLIM[1]*100,5),orientation='horizontal')\n",
    "cax.set(title='Clay content (%)')\n",
    "loc = ax.get_window_extent()\n",
    "plt.show()"
   ]
  },
  {
   "cell_type": "raw",
   "id": "509b64f8-a6d3-400e-8fc1-7977a3ad9247",
   "metadata": {},
   "source": [
    "grid"
   ]
  },
  {
   "cell_type": "code",
   "execution_count": 20,
   "id": "62d20541-133d-48c7-9608-23e6fc281a9b",
   "metadata": {
    "tags": []
   },
   "outputs": [
    {
     "name": "stderr",
     "output_type": "stream",
     "text": [
      "findfont: Font family ['ubuntu-light'] not found. Falling back to DejaVu Sans.\n"
     ]
    },
    {
     "data": {
      "image/png": "[encoded data removed]",
      "text/plain": [
       "<Figure size 576x288 with 4 Axes>"
      ]
     },
     "metadata": {
      "needs_background": "light"
     },
     "output_type": "display_data"
    }
   ],
   "source": [
    "resx = 8\n",
    "cores_x = [np.linspace(0.10,0.13,resx),\n",
    "           np.concatenate((np.linspace(0.14,0.15,4),np.linspace(0.01,0.02,4))),\n",
    "           np.linspace(0.03,0.06,resx),\n",
    "           np.linspace(0.07,0.10,resx)]\n",
    "\n",
    "fig,axs = plt.subplots(1,4,sharey=True,sharex=True,gridspec_kw={'wspace':0.05},figsize=[8,4])\n",
    "\n",
    "for i,core in enumerate(cores_x):\n",
    "    pC_accum,y_accum = [],[]\n",
    "    for x in core:\n",
    "        line_bottom,line_top = (x,-0.10,0.145),(x, 0.06,0.145)\n",
    "        samples = grid.sample_over_line(line_top,line_bottom,resolution=50)\n",
    "        pC = np.ma.masked_where(samples['vtkValidPointMask']<1.0,samples['depositedClay'])\n",
    "        #pC *= 100\n",
    "        y  = np.ma.masked_where(samples['vtkValidPointMask']<1.0,samples.points[:,1])\n",
    "        pC_accum.append(pC)\n",
    "        y_accum.append(y)\n",
    "        littleLine = axs[i].plot(pC,y,color=core_color[i],alpha=0.1,lw=2,zorder=1)\n",
    "        \n",
    "    pC_accum = np.ma.stack(pC_accum,axis=0)\n",
    "    meanPc = pC_accum.mean(axis=0)\n",
    "    y_accum = np.ma.stack(y_accum,axis=0)\n",
    "    meanY = y_accum.mean(axis=0)\n",
    "    #axs[i].plot(meanPc,meanY,color='k',alpha=0.9,lw=2,ls='-')\n",
    "    bigLine = axs[i].plot(meanPc,meanY,color=core_color[i],alpha=0.9,lw=4,ls='-',zorder=3)\n",
    "    \n",
    "    #stdPc = pC_accum.std(axis=0)\n",
    "    #axs[i].plot(meanPc+stdPc,meanY,color=core_color[i],alpha=0.9,lw=2,ls='-')\n",
    "    #axs[i].plot(meanPc-stdPc,meanY,color=core_color[i],alpha=0.9,lw=2,ls='-')\n",
    "\n",
    "for ax in axs: \n",
    "    ax.spines['top'].set_visible(False)\n",
    "    ax.spines['right'].set_visible(False)\n",
    "    ax.spines['left'].set_color('darkgray')\n",
    "    ax.spines['bottom'].set_color('darkgray')\n",
    "    \n",
    "axs[0].set_ylim([-0.025,0.009])\n",
    "axs[0].set_xlim([-0.4,5.0])\n",
    "axs[0].set_yticks([0.005,0,-0.005,-0.01,-0.015,-0.02])\n",
    "axs[0].set_yticklabels(['','0','','-1','','-2'])\n",
    "\n",
    "fig.supxlabel('Clay content (%)',y=-0.01)\n",
    "fig.supylabel('Z (cm)')\n",
    "\n",
    "## Measurements\n",
    "experiment = ExperimentalData['Neutral']\n",
    "ycores = ExperimentalData['Y']\n",
    "ccores = ExperimentalData['Neutral']['C']\n",
    "scores = ExperimentalData['Neutral']['std']\n",
    "\n",
    "for y,cv,sv,ax in zip(ycores,ccores,scores,axs):\n",
    "    dy = 0.5E-2\n",
    "    y1 = y\n",
    "    y2 = y - dy\n",
    "    for c,s in zip(cv,sv):\n",
    "        linecollection = ax.vlines(c,y2,y1,colors='k',zorder=4)\n",
    "        ym = (y1+y2)/2\n",
    "        ax.hlines(ym,c-s,c+s,colors='k',zorder=4)\n",
    "        y1 -= dy\n",
    "        y2 -= dy\n",
    "\n",
    "axs[-1].legend([linecollection]+bigLine+littleLine,\n",
    "               ['Experimental result','Mean profile','A single profile'],\n",
    "               loc='lower center',ncol=3)\n",
    "#plt.savefig(\"ProfilingLES.svg\")\n",
    "plt.show()"
   ]
  },
  {
   "cell_type": "code",
   "execution_count": null,
   "id": "1e0821c2-975b-4716-82e5-6fc27a86bdcc",
   "metadata": {},
   "outputs": [],
   "source": []
  },
  {
   "cell_type": "code",
   "execution_count": null,
   "id": "23a0ea30-b58b-411e-97ac-959473026f91",
   "metadata": {},
   "outputs": [],
   "source": []
  }
 ],
 "metadata": {
  "kernelspec": {
   "display_name": "Python 3.9.5 ('venv')",
   "language": "python",
   "name": "python3"
  },
  "language_info": {
   "codemirror_mode": {
    "name": "ipython",
    "version": 3
   },
   "file_extension": ".py",
   "mimetype": "text/x-python",
   "name": "python",
   "nbconvert_exporter": "python",
   "pygments_lexer": "ipython3",
   "version": "3.9.5"
  },
  "vscode": {
   "interpreter": {
    "hash": "8f62a988d0078ce54b44b9110a71f93c38ba1feabf8ee2b2fa419091e683527d"
   }
  }
 },
 "nbformat": 4,
 "nbformat_minor": 5
}
