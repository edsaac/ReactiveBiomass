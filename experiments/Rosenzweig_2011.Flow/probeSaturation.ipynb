{
 "cells": [
  {
   "cell_type": "code",
   "execution_count": 1,
   "metadata": {},
   "outputs": [],
   "source": [
    "import numpy as np\n",
    "import pandas as pd\n",
    "import os, subprocess, shutil\n",
    "import matplotlib.pyplot as plt\n",
    "\n",
    "REPO_PATH = subprocess.check_output(['git', 'rev-parse', '--show-toplevel']).decode('utf-8').strip()\n",
    "plt.style.use(f'{REPO_PATH}/misc/edwin.mplstyle')\n",
    "\n",
    "caseName   = \"constantHead\"\n",
    "solverFoam = \"RichardsFoam\"\n",
    "names = [\"theta\"]\n",
    "probeVars  = \" \".join(names)\n",
    "\n",
    "## Check that solver is compiled\n",
    "if not(solverFoam in subprocess.run([\"which\",f\"{solverFoam}\"],capture_output=True).stdout.decode('utf-8').strip()):\n",
    "    print(\"######### SOLVER NOT FOUND ############\")"
   ]
  },
  {
   "cell_type": "code",
   "execution_count": null,
   "metadata": {},
   "outputs": [],
   "source": [
    "## Bring template for probes\n",
    "subprocess.run(f\"cp {REPO_PATH}/misc/probes_inOut.tpl {caseName}/system/probes\".split())\n",
    "\n",
    "## Replace placeholders in template\n",
    "subprocess.run([\"sed\", \"-i\", f\"s/<<LIST_OF_VARIABLES_TO_MEASURE>>/({probeVars})/g\", f\"{caseName}/system/probes\"])\n",
    "\n",
    "column_lenght = 0.60\n",
    "subprocess.run([\"sed\", \"-i\", f\"s/<<OUT_LOCATION>>/(0 0 {column_lenght})/g\", f\"{caseName}/system/probes\"])\n",
    "\n",
    "## Clean previous runs\n",
    "subprocess.run([f\"foamListTimes\", \"-rm\"], cwd=f\"./{caseName}\")\n",
    "\n",
    "## Clean postprocessing\n",
    "postProc_path = f\"{caseName}/postProcessing\"\n",
    "if os.path.exists(postProc_path): shutil.rmtree(postProc_path)"
   ]
  }
 ],
 "metadata": {
  "kernelspec": {
   "display_name": "Python 3.10.8 ('venv')",
   "language": "python",
   "name": "python3"
  },
  "language_info": {
   "codemirror_mode": {
    "name": "ipython",
    "version": 3
   },
   "file_extension": ".py",
   "mimetype": "text/x-python",
   "name": "python",
   "nbconvert_exporter": "python",
   "pygments_lexer": "ipython3",
   "version": "3.10.8"
  },
  "orig_nbformat": 4,
  "vscode": {
   "interpreter": {
    "hash": "bfb825aa2aa4bf62bfc475bd797298e457bf7ab9eef371f19ce4779beb6b8980"
   }
  }
 },
 "nbformat": 4,
 "nbformat_minor": 2
}
