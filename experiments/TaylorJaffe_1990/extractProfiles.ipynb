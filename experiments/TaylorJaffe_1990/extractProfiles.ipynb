{
 "cells": [
  {
   "cell_type": "code",
   "execution_count": 20,
   "metadata": {},
   "outputs": [],
   "source": [
    "import pyvista as pv\n",
    "import matplotlib.pyplot as plt\n",
    "import subprocess\n",
    "import numpy as np\n",
    "from myusefultools.parser import getVTKList\n",
    "import ipywidgets as wd\n",
    "import os"
   ]
  },
  {
   "cell_type": "code",
   "execution_count": 21,
   "metadata": {},
   "outputs": [],
   "source": [
    "REPO_PATH = subprocess.check_output(['git', 'rev-parse', '--show-toplevel']).decode('utf-8').strip()\n",
    "plt.style.use(f'{REPO_PATH}/misc/edwin.mplstyle')"
   ]
  },
  {
   "cell_type": "code",
   "execution_count": 22,
   "metadata": {},
   "outputs": [],
   "source": [
    "PATH_TO_VTK = \"./column1/VTK\"\n",
    "ALL_VTK_PATHS = getVTKList(PATH_TO_VTK)"
   ]
  },
  {
   "cell_type": "code",
   "execution_count": 31,
   "metadata": {},
   "outputs": [
    {
     "data": {
      "application/vnd.jupyter.widget-view+json": {
       "model_id": "16a6492f8ee640f3bea658e0a8af6b2b",
       "version_major": 2,
       "version_minor": 0
      },
      "text/plain": [
       "Select(options=('column1_0.vtk', 'column1_4320.vtk', 'column1_8640.vtk', 'column1_12960.vtk', 'column1_13442.v…"
      ]
     },
     "metadata": {},
     "output_type": "display_data"
    }
   ],
   "source": [
    "vtk_file_select = wd.Select(options=ALL_VTK_PATHS)\n",
    "display(vtk_file_select)"
   ]
  },
  {
   "cell_type": "code",
   "execution_count": 32,
   "metadata": {},
   "outputs": [
    {
     "name": "stdout",
     "output_type": "stream",
     "text": [
      "(0.0, 0.009999999776482582, 0.0, 0.009999999776482582, 0.0, 0.5199999809265137)\n"
     ]
    }
   ],
   "source": [
    "vtk_file = os.path.join(PATH_TO_VTK,vtk_file_select.value)\n",
    "grid = pv.read(vtk_file)\n",
    "#grid.set_active_scalars('O2',preference='point')\n",
    "print(grid.bounds)"
   ]
  },
  {
   "cell_type": "code",
   "execution_count": 33,
   "metadata": {},
   "outputs": [],
   "source": [
    "dataLine = grid.sample_over_line((0, 0, 0),(0, 0, 0.52),resolution=100)"
   ]
  },
  {
   "cell_type": "code",
   "execution_count": 35,
   "metadata": {},
   "outputs": [
    {
     "data": {
      "text/html": [
       "<table><tr><th>Header</th><th>Data Arrays</th></tr><tr><td>\n",
       "<table>\n",
       "<tr><th>PolyData</th><th>Information</th></tr>\n",
       "<tr><td>N Cells</td><td>1</td></tr>\n",
       "<tr><td>N Points</td><td>101</td></tr>\n",
       "<tr><td>X Bounds</td><td>0.000e+00, 0.000e+00</td></tr>\n",
       "<tr><td>Y Bounds</td><td>0.000e+00, 0.000e+00</td></tr>\n",
       "<tr><td>Z Bounds</td><td>0.000e+00, 5.200e-01</td></tr>\n",
       "<tr><td>N Arrays</td><td>28</td></tr>\n",
       "</table>\n",
       "\n",
       "</td><td>\n",
       "<table>\n",
       "<tr><th>Name</th><th>Field</th><th>Type</th><th>N Comp</th><th>Min</th><th>Max</th></tr>\n",
       "<tr><td>BAP</td><td>Points</td><td>float32</td><td>1</td><td>0.000e+00</td><td>2.595e-08</td></tr>\n",
       "<tr><td>DOC</td><td>Points</td><td>float32</td><td>1</td><td>7.139e-03</td><td>7.200e-03</td></tr>\n",
       "<tr><td>EPS</td><td>Points</td><td>float32</td><td>1</td><td>4.214e-05</td><td>4.814e-05</td></tr>\n",
       "<tr><td>NH4</td><td>Points</td><td>float32</td><td>1</td><td>8.997e-03</td><td>9.000e-03</td></tr>\n",
       "<tr><td>NO3</td><td>Points</td><td>float32</td><td>1</td><td>0.000e+00</td><td>0.000e+00</td></tr>\n",
       "<tr><td>O2</td><td>Points</td><td>float32</td><td>1</td><td>8.992e-03</td><td>9.000e-03</td></tr>\n",
       "<tr><td>POCr</td><td>Points</td><td>float32</td><td>1</td><td>0.000e+00</td><td>2.197e-09</td></tr>\n",
       "<tr><td>U</td><td>Points</td><td>float32</td><td>3</td><td>-6.647e-25</td><td>4.258e-05</td></tr>\n",
       "<tr><td>XAR</td><td>Points</td><td>float32</td><td>1</td><td>1.565e-04</td><td>1.686e-04</td></tr>\n",
       "<tr><td>XDN</td><td>Points</td><td>float32</td><td>1</td><td>0.000e+00</td><td>0.000e+00</td></tr>\n",
       "<tr><td>XI</td><td>Points</td><td>float32</td><td>1</td><td>3.668e-06</td><td>3.935e-06</td></tr>\n",
       "<tr><td>XN</td><td>Points</td><td>float32</td><td>1</td><td>0.000e+00</td><td>0.000e+00</td></tr>\n",
       "<tr><td>h</td><td>Points</td><td>float32</td><td>1</td><td>1.000e-03</td><td>2.360e-02</td></tr>\n",
       "<tr><td>katt_BAP</td><td>Points</td><td>float32</td><td>1</td><td>8.126e-06</td><td>8.126e-06</td></tr>\n",
       "<tr><td>katt_POCr</td><td>Points</td><td>float32</td><td>1</td><td>8.126e-06</td><td>8.126e-06</td></tr>\n",
       "<tr><td>kdet_EPS</td><td>Points</td><td>float32</td><td>1</td><td>5.204e-08</td><td>5.204e-08</td></tr>\n",
       "<tr><td>kdet_XI</td><td>Points</td><td>float32</td><td>1</td><td>5.204e-08</td><td>5.204e-08</td></tr>\n",
       "<tr><td>n</td><td>Points</td><td>float32</td><td>1</td><td>3.900e-01</td><td>3.900e-01</td></tr>\n",
       "<tr><td>perm</td><td>Points</td><td>float32</td><td>1</td><td>9.986e-11</td><td>9.986e-11</td></tr>\n",
       "<tr><td>rDN</td><td>Points</td><td>float32</td><td>1</td><td>0.000e+00</td><td>0.000e+00</td></tr>\n",
       "<tr><td>rH</td><td>Points</td><td>float32</td><td>1</td><td>3.161e-05</td><td>3.177e-05</td></tr>\n",
       "<tr><td>rN</td><td>Points</td><td>float32</td><td>1</td><td>5.816e-05</td><td>5.816e-05</td></tr>\n",
       "<tr><td>cellID</td><td>Points</td><td>int32</td><td>1</td><td>0.000e+00</td><td>1.030e+02</td></tr>\n",
       "<tr><td>vtkValidPointMask</td><td>Points</td><td>int8</td><td>1</td><td>1.000e+00</td><td>1.000e+00</td></tr>\n",
       "<tr><td>Texture Coordinates</td><td>Points</td><td>float32</td><td>2</td><td>0.000e+00</td><td>1.000e+00</td></tr>\n",
       "<tr><td><b>Distance</b></td><td>Points</td><td>float64</td><td>1</td><td>0.000e+00</td><td>5.200e-01</td></tr>\n",
       "<tr><td>vtkGhostType</td><td>Points</td><td>uint8</td><td>1</td><td>0.000e+00</td><td>0.000e+00</td></tr>\n",
       "<tr><td>vtkGhostType</td><td>Cells</td><td>uint8</td><td>1</td><td>0.000e+00</td><td>0.000e+00</td></tr>\n",
       "</table>\n",
       "\n",
       "</td></tr> </table>"
      ],
      "text/plain": [
       "PolyData (0x7f3968f39ee0)\n",
       "  N Cells:\t1\n",
       "  N Points:\t101\n",
       "  X Bounds:\t0.000e+00, 0.000e+00\n",
       "  Y Bounds:\t0.000e+00, 0.000e+00\n",
       "  Z Bounds:\t0.000e+00, 5.200e-01\n",
       "  N Arrays:\t28"
      ]
     },
     "execution_count": 35,
     "metadata": {},
     "output_type": "execute_result"
    }
   ],
   "source": [
    "dataLine"
   ]
  },
  {
   "cell_type": "code",
   "execution_count": 39,
   "metadata": {},
   "outputs": [
    {
     "data": {
      "text/plain": [
       "pyvista_ndarray([1.41917335e-05, 1.41917335e-05, 1.41917335e-05,\n",
       "                 1.41917335e-05, 1.41917335e-05, 1.41917335e-05,\n",
       "                 1.41917335e-05, 1.41917335e-05, 1.41917335e-05,\n",
       "                 1.41917335e-05, 1.41917335e-05, 1.41917335e-05,\n",
       "                 1.41917335e-05, 1.41917335e-05, 1.41917335e-05,\n",
       "                 1.41917335e-05, 1.41917335e-05, 1.41917335e-05,\n",
       "                 1.41917335e-05, 1.41917335e-05, 1.41917335e-05,\n",
       "                 1.41917335e-05, 1.41917335e-05, 1.41917335e-05,\n",
       "                 1.41917335e-05, 1.41917335e-05, 1.41917335e-05,\n",
       "                 1.41917335e-05, 1.41917335e-05, 1.41917335e-05,\n",
       "                 1.41917335e-05, 1.41917335e-05, 1.41917335e-05,\n",
       "                 1.41917335e-05, 1.41917335e-05, 1.41917335e-05,\n",
       "                 1.41917335e-05, 1.41917335e-05, 1.41917335e-05,\n",
       "                 1.41917335e-05, 1.41917335e-05, 1.41917335e-05,\n",
       "                 1.41917335e-05, 1.41917335e-05, 1.41917335e-05,\n",
       "                 1.41917335e-05, 1.41917335e-05, 1.41917335e-05,\n",
       "                 1.41917335e-05, 1.41917335e-05, 1.41917335e-05,\n",
       "                 1.41917335e-05, 1.41917335e-05, 1.41917335e-05,\n",
       "                 1.41917335e-05, 1.41917335e-05, 1.41917335e-05,\n",
       "                 1.41917335e-05, 1.41917335e-05, 1.41917335e-05,\n",
       "                 1.41917335e-05, 1.41917335e-05, 1.41917335e-05,\n",
       "                 1.41917335e-05, 1.41917335e-05, 1.41917335e-05,\n",
       "                 1.41917335e-05, 1.41917335e-05, 1.41917335e-05,\n",
       "                 1.41917335e-05, 1.41917335e-05, 1.41917335e-05,\n",
       "                 1.41917335e-05, 1.41917335e-05, 1.41917335e-05,\n",
       "                 1.41917335e-05, 1.41917335e-05, 1.41917335e-05,\n",
       "                 1.41917335e-05, 1.41917335e-05, 1.41917335e-05,\n",
       "                 1.41917335e-05, 1.41917335e-05, 1.41917335e-05,\n",
       "                 1.41917335e-05, 1.41917335e-05, 1.41917335e-05,\n",
       "                 1.41917335e-05, 1.41917335e-05, 1.41917335e-05,\n",
       "                 1.41917335e-05, 1.41917335e-05, 1.41917335e-05,\n",
       "                 1.41917335e-05, 1.41917335e-05, 1.41917335e-05,\n",
       "                 1.41917335e-05, 1.41917335e-05, 1.41917335e-05,\n",
       "                 1.41917335e-05, 1.41917335e-05], dtype=float32)"
      ]
     },
     "execution_count": 39,
     "metadata": {},
     "output_type": "execute_result"
    }
   ],
   "source": [
    "np.mean(dataLine['U'],axis=1)"
   ]
  },
  {
   "cell_type": "code",
   "execution_count": null,
   "metadata": {},
   "outputs": [],
   "source": []
  }
 ],
 "metadata": {
  "kernelspec": {
   "display_name": "Python 3.9.5 ('venv')",
   "language": "python",
   "name": "python3"
  },
  "language_info": {
   "codemirror_mode": {
    "name": "ipython",
    "version": 3
   },
   "file_extension": ".py",
   "mimetype": "text/x-python",
   "name": "python",
   "nbconvert_exporter": "python",
   "pygments_lexer": "ipython3",
   "version": "3.9.5"
  },
  "orig_nbformat": 4,
  "vscode": {
   "interpreter": {
    "hash": "8f62a988d0078ce54b44b9110a71f93c38ba1feabf8ee2b2fa419091e683527d"
   }
  }
 },
 "nbformat": 4,
 "nbformat_minor": 2
}
