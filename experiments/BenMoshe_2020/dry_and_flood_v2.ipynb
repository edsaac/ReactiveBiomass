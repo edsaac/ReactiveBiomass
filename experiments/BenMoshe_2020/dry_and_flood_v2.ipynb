{
 "cells": [
  {
   "cell_type": "code",
   "execution_count": null,
   "metadata": {},
   "outputs": [],
   "source": [
    "import numpy as np\n",
    "import pandas as pd\n",
    "import matplotlib.pyplot as plt\n",
    "from myusefultools.pyopenfoam import OpenFOAM\n",
    "from pathlib import Path\n",
    "import multiprocessing as mp\n",
    "import os\n",
    "import itertools\n",
    "\n",
    "%matplotlib inline\n",
    "import matplotlib_inline\n",
    "matplotlib_inline.backend_inline.set_matplotlib_formats('pdf')"
   ]
  },
  {
   "cell_type": "code",
   "execution_count": null,
   "metadata": {},
   "outputs": [],
   "source": [
    "## Check CASES folder exists\n",
    "cases_folder = Path(\"CASES\")\n",
    "if not cases_folder.exists():\n",
    "    os.mkdir(cases_folder)\n",
    "\n",
    "template_folder = Path(\"template\")"
   ]
  },
  {
   "cell_type": "code",
   "execution_count": null,
   "metadata": {},
   "outputs": [],
   "source": [
    "identifier = f\"CASES/casetest\"\n",
    "of = OpenFOAM(\n",
    "    path_case=identifier, write_to_log = True, path_template=template_folder\n",
    ")\n"
   ]
  },
  {
   "cell_type": "code",
   "execution_count": null,
   "metadata": {},
   "outputs": [],
   "source": [
    "def set_boundary_unsatTime(self, t0, tf, h0, hf):\n",
    "    t0 = t0 * 60\n",
    "    tf = tf * 60\n",
    "\n",
    "    ## Set fixedValue but reading from a CSV file\n",
    "    self.set_value_in_foamDictionary(\n",
    "        f\"{self.latest_time}/h\", \n",
    "        entry=\"boundaryField.top\",\n",
    "        value=f\"\"\"{{type unsatTime; value {h0}; initialTime {t0}; finalTime {tf}; initialHead {h0}; finalHead {hf}; }}\"\"\")\n",
    "        \n",
    "## Make that function a bounded method of the OpenFOAM class\n",
    "setattr(OpenFOAM, set_boundary_unsatTime.__name__, set_boundary_unsatTime)"
   ]
  },
  {
   "cell_type": "code",
   "execution_count": null,
   "metadata": {},
   "outputs": [],
   "source": [
    "from collections import namedtuple\n",
    "Cycle = namedtuple(\"Cycle\", [\"t0\", \"t1\", \"t2\", \"t3\", \"t4\"])\n"
   ]
  },
  {
   "cell_type": "code",
   "execution_count": null,
   "metadata": {},
   "outputs": [],
   "source": [
    "list_of_runs = [\n",
    "    Cycle(  0,  41,  88, 102, 173),\n",
    "    Cycle(173, 251, 287, 311, 411),\n",
    "    Cycle(411, 461, 499, 521, 617),\n",
    "    Cycle(617, 671,  708, 732, 822),\n",
    "    Cycle(822, 880,  917, 940, 1032),\n",
    "    Cycle(1032, 1089, 1125, 1149, 1243),\n",
    "    Cycle(1243, 1299, 1340, 1359, 1448),\n",
    "    Cycle(1448, 1509, 1546, 1569, 1659),\n",
    "    Cycle(1659, 1720, 1752, 1781, 1867)\n",
    "    # Cycle(1867, 2015, None, None, None), ## End dry\n",
    "]"
   ]
  },
  {
   "cell_type": "code",
   "execution_count": null,
   "metadata": {},
   "outputs": [],
   "source": [
    "for i, run in enumerate(list_of_runs):\n",
    "\n",
    "    of.logger(\"\\n🔥 ======= Dry period ======\")\n",
    "    of.set_endtime(run.t1)\n",
    "    of.set_boundary_fixedGradient()\n",
    "    of.set_convergeThreshold(0.250)\n",
    "    of.cleanup_last_timestep()\n",
    "    status = of.run_solver()\n",
    "    of.logger(f\"\\nSolver ended with return code {status}\")\n",
    "    if status != 0: \n",
    "        print(f\"Died while drying in cycle {i}\", status, of.latest_time)\n",
    "        break\n",
    "        \n",
    "    of.logger(\"\\n🌊 ====== Flood period 1 =====\")\n",
    "    of.set_endtime(run.t2)\n",
    "    of.set_boundary_unsatTime(run.t1, run.t2, 0, 0.26)\n",
    "    of.set_convergeThreshold(0.001)\n",
    "    status = of.run_solver()\n",
    "    of.logger(f\"\\nSolver ended with return code {status}\")\n",
    "    if status != 0:\n",
    "        print(f\"Died while flooding in cycle {i}\", status, of.latest_time)\n",
    "        break\n",
    "\n",
    "    of.logger(\"\\n🌊 ====== Flood period 2 =====\")\n",
    "    of.set_endtime(run.t3)\n",
    "    of.set_boundary_unsatTime(run.t2, run.t3, 0.26, 0.26)\n",
    "    status = of.run_solver()\n",
    "    of.logger(f\"\\nSolver ended with return code {status}\")\n",
    "    if status != 0:\n",
    "        print(f\"Died while flooding in cycle {i}\", status, of.latest_time)\n",
    "        break\n",
    "    of.logger(\"\\n🌊 ====== Flood period 3 =====\")\n",
    "    of.set_endtime(run.t4)\n",
    "    of.set_boundary_unsatTime(run.t3, run.t4, 0.26, 0)\n",
    "    status = of.run_solver()\n",
    "    of.logger(f\"\\nSolver ended with return code {status}\")\n",
    "    if status != 0:\n",
    "        print(f\"Died while flooding in cycle {i}\", status, of.latest_time)\n",
    "        break\n"
   ]
  },
  {
   "cell_type": "code",
   "execution_count": null,
   "metadata": {},
   "outputs": [],
   "source": [
    "of.foam_to_vtk()\n",
    "of.boundaryProbes_to_txt()\n",
    "of.process_boundaryProbes() "
   ]
  },
  {
   "cell_type": "code",
   "execution_count": null,
   "metadata": {},
   "outputs": [],
   "source": [
    "of.boundaryProbes[0].probes_points"
   ]
  },
  {
   "cell_type": "code",
   "execution_count": null,
   "metadata": {},
   "outputs": [],
   "source": [
    "DIM = 0 # 0 for scalar, 1 for vector\n",
    "FIELD = \"Sw\"\n",
    "\n",
    "fig, ax = plt.subplots()\n",
    "ax.plot(of.boundaryProbes[DIM].array_data.time, of.boundaryProbes[DIM].array_data[FIELD][0], label=\"Top\")\n",
    "ax.plot(of.boundaryProbes[DIM].array_data.time, of.boundaryProbes[DIM].array_data[FIELD][1], label=\"Bottom\")\n",
    "ax.legend()\n",
    "ax.set_xlabel(\"Time [s]\")\n",
    "ax.set_ylabel(FIELD)\n",
    "# ax.set_xlim(0,120_000)\n",
    "plt.show()"
   ]
  },
  {
   "cell_type": "code",
   "execution_count": null,
   "metadata": {},
   "outputs": [],
   "source": [
    "import json\n",
    "\n",
    "field = \"NO3\"\n",
    "\n",
    "with open(\"../Rosenzweig_2011/fit_ravid/heatmaps_config.json\") as f:\n",
    "    heatmaps_config = json.load(f)\n",
    "\n",
    "default_pcolormesh_kwargs = dict(cmap=\"winter\")\n",
    "pcolormesh_kwargs = heatmaps_config.get(field) or default_pcolormesh_kwargs\n",
    "\n",
    "of.plot_field_over_time(field, pcolormesh_kwargs);"
   ]
  },
  {
   "cell_type": "code",
   "execution_count": null,
   "metadata": {},
   "outputs": [],
   "source": [
    "sw = of.read_field_all_times(\"Sw\")\n",
    "porosity = of.read_field_all_times(\"porosity\")\n",
    "h = of.read_field_all_times(\"h\")"
   ]
  },
  {
   "cell_type": "code",
   "execution_count": null,
   "metadata": {},
   "outputs": [],
   "source": [
    "doc = of.read_field_all_times(\"DOC\")\n",
    "no3 = of.read_field_all_times(\"NO3\")\n",
    "nh4 = of.read_field_all_times(\"NH4\")\n",
    "o2 = of.read_field_all_times(\"O2\")"
   ]
  },
  {
   "cell_type": "code",
   "execution_count": null,
   "metadata": {},
   "outputs": [],
   "source": [
    "fig, ax = plt.subplots()\n",
    "o2.sel(z=[5.74, 5.24, 4.24, 3.24]).plot.line(x=\"t\", ax=ax)\n",
    "ax.set_xlabel(\"Time (s)\")\n",
    "ax.set_ylabel(\"Sw (-)\")\n",
    "plt.show()"
   ]
  },
  {
   "cell_type": "code",
   "execution_count": null,
   "metadata": {},
   "outputs": [],
   "source": [
    "experimental = pd.read_csv(\"./experimental-data/.hiddendata/Figure2.csv\")\n",
    "experimental"
   ]
  },
  {
   "cell_type": "code",
   "execution_count": null,
   "metadata": {},
   "outputs": [],
   "source": [
    "depths = [5.74, 5.24, 4.24, 3.24]\n",
    "colnames = [\"WC 25\", \"WC 75\", \"WC 175\", \"WC 275\"]\n",
    "fig, axs = plt.subplots(4,1, figsize=[5,10], sharex=True)\n",
    "\n",
    "for d,c,ax in zip(depths, colnames, axs):\n",
    "    theta = (sw*porosity).sel(z=d)\n",
    "    theta.plot.line(x=\"t\", ax=ax, label=\"Model\")\n",
    "    ax.set_xlabel(\"\")\n",
    "    time_experimental = np.arange(len(experimental))*60 # Data acquisition every minute\n",
    "    ax.plot(time_experimental, experimental[c]/100 , label=\"Experiment\")\n",
    "    ax.set_ylabel(\"Sw (-)\")\n",
    "    ax.set_xlim(0, 120_000)\n",
    "    ax.legend()\n",
    "ax.set_xlabel(\"Time (s)\")\n",
    "plt.show()"
   ]
  },
  {
   "cell_type": "code",
   "execution_count": null,
   "metadata": {},
   "outputs": [],
   "source": [
    "fig, ax = plt.subplots(figsize=[8,4])\n",
    "h.sel(z=6.0).plot.line(x=\"t\", ax=ax, label=\"Model\")\n",
    "ax.plot(time_experimental, experimental[\"SH\"]/100 , label=\"Experiment\")\n",
    "ax.set_ylim(bottom=0)\n",
    "ax.set_xlim(0, 120_000)\n",
    "plt.show()"
   ]
  },
  {
   "cell_type": "code",
   "execution_count": null,
   "metadata": {},
   "outputs": [],
   "source": [
    "depths = [5.74, 5.24, 4.24, 3.24]\n",
    "colnames = [\"OXY 25\", \"OXY 75\", \"OXY 175\", \"OXY 275\"]\n",
    "\n",
    "fig, axs = plt.subplots(5,1, figsize=[5,10], sharex=True)\n",
    "\n",
    "ax = axs[0]\n",
    "h.\n",
    "\n",
    "for d,c,ax in zip(depths, colnames, axs[1:]):\n",
    "    o2.sel(z=d).plot.line(x=\"t\", ax=ax, label=\"Model\")\n",
    "    ax.set_xlabel(\"\")\n",
    "    time_experimental = np.arange(len(experimental))*60 # Data acquisition every minute\n",
    "    ax.plot(time_experimental, experimental[c]/1000 , label=\"Experiment\")\n",
    "    ax.set_ylabel(\"$O_2$ (mg/L)\")\n",
    "    ax.set_xlim(0, 120_000)\n",
    "    ax.legend()\n",
    "ax.set_xlabel(\"Time (s)\")\n",
    "plt.show()"
   ]
  },
  {
   "cell_type": "code",
   "execution_count": null,
   "metadata": {},
   "outputs": [],
   "source": []
  }
 ],
 "metadata": {
  "kernelspec": {
   "display_name": "venv",
   "language": "python",
   "name": "python3"
  },
  "language_info": {
   "codemirror_mode": {
    "name": "ipython",
    "version": 3
   },
   "file_extension": ".py",
   "mimetype": "text/x-python",
   "name": "python",
   "nbconvert_exporter": "python",
   "pygments_lexer": "ipython3",
   "version": "3.10.13"
  }
 },
 "nbformat": 4,
 "nbformat_minor": 2
}
