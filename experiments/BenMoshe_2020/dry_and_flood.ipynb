{
 "cells": [
  {
   "cell_type": "code",
   "execution_count": 72,
   "metadata": {},
   "outputs": [],
   "source": [
    "import numpy as np\n",
    "import pandas as pd\n",
    "import matplotlib.pyplot as plt\n",
    "from myusefultools.pyopenfoam import OpenFOAM\n",
    "from pathlib import Path\n",
    "import multiprocessing as mp\n",
    "import os\n",
    "import itertools\n",
    "\n",
    "# command = \"\"\" foamDictionary $(foamListTimes -latestTime)/h -entry boundaryField.top -set \"{type uniformInletOutlet; value $internalField; uniformInletValue {type csvFile; nHeaderLine 1; refColumn 0; componentColumns (1); separator \\\",\\\"; mergeSeparators no; file \\\"../experimental-data/headFixed_SW150/headFixed_1.csv\\\";} }\" \"\"\""
   ]
  },
  {
   "cell_type": "code",
   "execution_count": 73,
   "metadata": {},
   "outputs": [],
   "source": [
    "## Check CASES folder exists\n",
    "cases_folder = Path(\"CASES\")\n",
    "if not cases_folder.exists():\n",
    "    os.mkdir(cases_folder)\n",
    "\n",
    "template_folder = Path(\"template\")"
   ]
  },
  {
   "cell_type": "code",
   "execution_count": 74,
   "metadata": {},
   "outputs": [],
   "source": [
    "identifier = f\"CASES/casetest\"\n",
    "of = OpenFOAM(\n",
    "    path_case=identifier, write_to_log = True, path_template=template_folder\n",
    ")\n"
   ]
  },
  {
   "cell_type": "code",
   "execution_count": 75,
   "metadata": {},
   "outputs": [],
   "source": [
    "def set_boundary_csvFixedValue(self, csvfile):\n",
    "    with open(csvfile) as f:\n",
    "        _ = f.readline()\n",
    "        first_value = f.readline().split(\",\")[1]\n",
    "\n",
    "    ## Set fixedValue but reading from a CSV file\n",
    "    self.set_value_in_foamDictionary(\n",
    "        f\"{self.latest_time}/h\", \n",
    "        entry=\"boundaryField.top\",\n",
    "        value=\"\"\"{type unsatTime; value \"\"\" + first_value + \"\"\"; uniformValue csvFile; uniformValueCoeffs{nHeaderLine 1; refColumn 0; componentColumns (1); separator \\\",\\\"; mergeSeparators no; file \\\"../../\"\"\" + csvfile + \"\"\"\\\";} }\"\"\")\n",
    "        # value=\"\"\"{type uniformFixedValue; value <internalField>; uniformValue tableFile; uniformValueCoeffs{file \\\"\"\"\" + csvfile + \"\"\"\\\";} }\"\"\")\n",
    "\n",
    "    # with open(self.path_case/Path(self.latest_time, \"h\")) as f:\n",
    "    #     input = f.read()\n",
    "    #     edited = input.replace(\"<internalField>\", \"$internalField\")\n",
    "\n",
    "    # with open(self.path_case/Path(self.latest_time, \"h\"), \"w\") as f:  \n",
    "    #     f.write(edited)\n",
    "\n",
    "## Make that function a bounded method of the OpenFOAM class\n",
    "setattr(OpenFOAM, set_boundary_csvFixedValue.__name__, set_boundary_csvFixedValue)"
   ]
  },
  {
   "cell_type": "code",
   "execution_count": 76,
   "metadata": {},
   "outputs": [],
   "source": [
    "of.set_boundary_csvFixedValue(f\"experimental-data/headFixed_SW150/headFixed_1.csv\")"
   ]
  },
  {
   "cell_type": "code",
   "execution_count": 77,
   "metadata": {},
   "outputs": [
    {
     "name": "stderr",
     "output_type": "stream",
     "text": [
      "#0  Foam::error::printStack(Foam::Ostream&) at ??:?\n",
      "#1  Foam::sigFpe::sigHandler(int) at ??:?\n",
      "#2  ? in \"/lib/x86_64-linux-gnu/libc.so.6\"\n",
      "#3  Foam::FDICPreconditioner::FDICPreconditioner(Foam::lduMatrix::solver const&, Foam::dictionary const&) at ??:?\n",
      "#4  Foam::lduMatrix::preconditioner::addsymMatrixConstructorToTable<Foam::FDICPreconditioner>::New(Foam::lduMatrix::solver const&, Foam::dictionary const&) at ??:?\n",
      "#5  Foam::lduMatrix::preconditioner::New(Foam::lduMatrix::solver const&, Foam::dictionary const&) at ??:?\n",
      "#6  Foam::PCG::solve(Foam::Field<double>&, Foam::Field<double> const&, unsigned char) const at ??:?\n",
      "#7  Foam::fvMatrix<double>::solveSegregated(Foam::dictionary const&) at ??:?\n",
      "#8  Foam::fvMatrix<double>::solve(Foam::dictionary const&) in \"/home/edsaac/OpenFOAM/edsaac-7/platforms/linux64GccDPInt32Opt/bin/unsatNutrientCycle\"\n",
      "#9  Foam::fvMatrix<double>::solve() in \"/home/edsaac/OpenFOAM/edsaac-7/platforms/linux64GccDPInt32Opt/bin/unsatNutrientCycle\"\n",
      "#10  ? in \"/home/edsaac/OpenFOAM/edsaac-7/platforms/linux64GccDPInt32Opt/bin/unsatNutrientCycle\"\n",
      "#11  __libc_start_main in \"/lib/x86_64-linux-gnu/libc.so.6\"\n",
      "#12  ? in \"/home/edsaac/OpenFOAM/edsaac-7/platforms/linux64GccDPInt32Opt/bin/unsatNutrientCycle\"\n"
     ]
    },
    {
     "name": "stdout",
     "output_type": "stream",
     "text": [
      "Died while drying in cycle 2 -8 10320.000\n"
     ]
    }
   ],
   "source": [
    "cycle_times = [\n",
    "    (41, 172),   #(time_to_dry, time_to_flood)\n",
    "    (251, 411), \n",
    "    (461, 617), \n",
    "    (671, 822), \n",
    "    (881, 1033), \n",
    "    (1090, 1243),\n",
    "    (1300, 1448),\n",
    "    (1510, 1659), \n",
    "    (1721, 1866)\n",
    "]\n",
    "\n",
    "for i, cycle in enumerate(cycle_times, start=1):\n",
    "    ## Cycle 1\n",
    "    ## Dry: set fixedGradient \n",
    "    \n",
    "    dryt, floodt = cycle\n",
    "\n",
    "    of.logger(f\"\\n🔥 ======= Cycle {i}\")\n",
    "    of.logger(\"\\n🔥 ======= Dry period ======\")\n",
    "    of.set_endtime(dryt)\n",
    "    of.set_boundary_fixedGradient()\n",
    "    of.set_convergeThreshold(0.12)\n",
    "    of.cleanup_last_timestep()\n",
    "    status = of.run_solver()\n",
    "    of.logger(f\"\\nSolver ended with return code {status}\")\n",
    "    if status != 0: \n",
    "        print(f\"Died while drying in cycle {i}\", status, of.latest_time)\n",
    "        break\n",
    "    \n",
    "    # if input(\"Continue?\") == \"NO\":\n",
    "    #     break\n",
    "\n",
    "    # Flood: use meadured head\n",
    "    of.logger(\"\\n🌊 ====== Flood period ======\")\n",
    "    of.set_endtime(floodt)\n",
    "    # of.set_boundary_fixedValue(0.15)\n",
    "    headFixed_time = f\"experimental-data/headFixed_SW150/headFixed_{i}.csv\"\n",
    "    of.set_boundary_csvFixedValue(headFixed_time)\n",
    "    of.set_convergeThreshold(0.001)\n",
    "    status = of.run_solver()\n",
    "    of.logger(f\"\\nSolver ended with return code {status}\")\n",
    "    if status != 0: break\n",
    "\n",
    "    if status != 0: \n",
    "        print(f\"Died while flooding in cycle {i}\", status, of.latest_time)\n",
    "        break\n"
   ]
  },
  {
   "cell_type": "code",
   "execution_count": 78,
   "metadata": {},
   "outputs": [
    {
     "name": "stdout",
     "output_type": "stream",
     "text": [
      "10320.000 172.0 2\n"
     ]
    }
   ],
   "source": [
    "print(of.latest_time, float(of.latest_time)/60, i)"
   ]
  },
  {
   "cell_type": "code",
   "execution_count": 79,
   "metadata": {},
   "outputs": [],
   "source": [
    "of.foam_to_vtk()\n",
    "of.boundaryProbes_to_txt()"
   ]
  },
  {
   "cell_type": "code",
   "execution_count": 80,
   "metadata": {},
   "outputs": [],
   "source": [
    "of.process_boundaryProbes()"
   ]
  },
  {
   "cell_type": "code",
   "execution_count": 88,
   "metadata": {},
   "outputs": [
    {
     "data": {
      "text/plain": [
       "[probePoint(x=0.1, y=0.1, z=6.0), probePoint(x=0.1, y=0.1, z=0.0)]"
      ]
     },
     "execution_count": 88,
     "metadata": {},
     "output_type": "execute_result"
    }
   ],
   "source": [
    "of.boundaryProbes[0].probes_points"
   ]
  },
  {
   "cell_type": "code",
   "execution_count": 106,
   "metadata": {},
   "outputs": [
    {
     "data": {
      "image/png": "[encoded data removed]",
      "text/plain": [
       "<Figure size 640x480 with 1 Axes>"
      ]
     },
     "metadata": {},
     "output_type": "display_data"
    }
   ],
   "source": [
    "DIM = 1 # 0 for scalar, 1 for vector\n",
    "FIELD = \"Uz\"\n",
    "\n",
    "fig, ax = plt.subplots()\n",
    "ax.plot(of.boundaryProbes[DIM].array_data.time/60, of.boundaryProbes[DIM].array_data[FIELD][0], label=\"Top\")\n",
    "ax.plot(of.boundaryProbes[DIM].array_data.time/60, of.boundaryProbes[DIM].array_data[FIELD][1], label=\"Bottom\")\n",
    "ax.legend()\n",
    "ax.set_xlabel(\"Time [min]\")\n",
    "ax.set_ylabel(FIELD)\n",
    "plt.show()"
   ]
  },
  {
   "cell_type": "code",
   "execution_count": 109,
   "metadata": {},
   "outputs": [
    {
     "ename": "ValueError",
     "evalue": "could not broadcast input array from shape (601,3) into shape (601,)",
     "output_type": "error",
     "traceback": [
      "\u001b[0;31m---------------------------------------------------------------------------\u001b[0m",
      "\u001b[0;31mValueError\u001b[0m                                Traceback (most recent call last)",
      "\u001b[1;32m/home/edsaac/Repos/ReactiveBiomass/experiments/BenMoshe_2020/dry_and_flood.ipynb Cell 12\u001b[0m in \u001b[0;36m<cell line: 11>\u001b[0;34m()\u001b[0m\n\u001b[1;32m      <a href='vscode-notebook-cell://ssh-remote%2B10.105.54.187/home/edsaac/Repos/ReactiveBiomass/experiments/BenMoshe_2020/dry_and_flood.ipynb#X14sdnNjb2RlLXJlbW90ZQ%3D%3D?line=7'>8</a>\u001b[0m default_pcolormesh_kwargs \u001b[39m=\u001b[39m \u001b[39mdict\u001b[39m(cmap\u001b[39m=\u001b[39m\u001b[39m\"\u001b[39m\u001b[39mwinter\u001b[39m\u001b[39m\"\u001b[39m)\n\u001b[1;32m      <a href='vscode-notebook-cell://ssh-remote%2B10.105.54.187/home/edsaac/Repos/ReactiveBiomass/experiments/BenMoshe_2020/dry_and_flood.ipynb#X14sdnNjb2RlLXJlbW90ZQ%3D%3D?line=8'>9</a>\u001b[0m pcolormesh_kwargs \u001b[39m=\u001b[39m heatmaps_config\u001b[39m.\u001b[39mget(field) \u001b[39mor\u001b[39;00m default_pcolormesh_kwargs\n\u001b[0;32m---> <a href='vscode-notebook-cell://ssh-remote%2B10.105.54.187/home/edsaac/Repos/ReactiveBiomass/experiments/BenMoshe_2020/dry_and_flood.ipynb#X14sdnNjb2RlLXJlbW90ZQ%3D%3D?line=10'>11</a>\u001b[0m of\u001b[39m.\u001b[39;49mplot_field_over_time(field, pcolormesh_kwargs)\n",
      "File \u001b[0;32m~/Repos/ReactiveBiomass/scripts/myusefultools/myusefultools/pyopenfoam.py:652\u001b[0m, in \u001b[0;36mOpenFOAM.plot_field_over_time\u001b[0;34m(self, field, pcolormesh_kwargs, save_png)\u001b[0m\n\u001b[1;32m    636\u001b[0m \u001b[39mdef\u001b[39;00m \u001b[39mplot_field_over_time\u001b[39m(\u001b[39mself\u001b[39m, field: \u001b[39mstr\u001b[39m, pcolormesh_kwargs: \u001b[39mdict\u001b[39m, save_png: \u001b[39mbool\u001b[39m \u001b[39m=\u001b[39m \u001b[39mFalse\u001b[39;00m):\n\u001b[1;32m    637\u001b[0m \u001b[39m    \u001b[39m\u001b[39m\"\"\"\u001b[39;00m\n\u001b[1;32m    638\u001b[0m \u001b[39m    Generates a Depth-time heatmap plot of the field\u001b[39;00m\n\u001b[1;32m    639\u001b[0m \n\u001b[0;32m   (...)\u001b[0m\n\u001b[1;32m    649\u001b[0m \n\u001b[1;32m    650\u001b[0m \u001b[39m    \"\"\"\u001b[39;00m\n\u001b[0;32m--> 652\u001b[0m     scalar \u001b[39m=\u001b[39m \u001b[39mself\u001b[39;49m\u001b[39m.\u001b[39;49mread_field_all_times(field)\n\u001b[1;32m    654\u001b[0m     igt \u001b[39m=\u001b[39m \u001b[39m0\u001b[39m\n\u001b[1;32m    655\u001b[0m     fig, (cax, ax) \u001b[39m=\u001b[39m plt\u001b[39m.\u001b[39msubplots(\n\u001b[1;32m    656\u001b[0m         \u001b[39m2\u001b[39m, \u001b[39m1\u001b[39m, figsize\u001b[39m=\u001b[39m[\u001b[39m5\u001b[39m, \u001b[39m5\u001b[39m], gridspec_kw\u001b[39m=\u001b[39m{\u001b[39m\"\u001b[39m\u001b[39mheight_ratios\u001b[39m\u001b[39m\"\u001b[39m: [\u001b[39m0.2\u001b[39m, \u001b[39m5\u001b[39m]}, sharex\u001b[39m=\u001b[39m\u001b[39mFalse\u001b[39;00m\n\u001b[1;32m    657\u001b[0m     )\n",
      "File \u001b[0;32m~/Repos/ReactiveBiomass/scripts/myusefultools/myusefultools/pyopenfoam.py:628\u001b[0m, in \u001b[0;36mOpenFOAM.read_field_all_times\u001b[0;34m(self, field)\u001b[0m\n\u001b[1;32m    626\u001b[0m     mesh \u001b[39m=\u001b[39m pv\u001b[39m.\u001b[39mread(vtk)\n\u001b[1;32m    627\u001b[0m     sample \u001b[39m=\u001b[39m mesh\u001b[39m.\u001b[39msample_over_line(a, b)\n\u001b[0;32m--> 628\u001b[0m     results[:, t] \u001b[39m=\u001b[39m sample[field]\n\u001b[1;32m    630\u001b[0m data \u001b[39m=\u001b[39m xr\u001b[39m.\u001b[39mDataArray(\n\u001b[1;32m    631\u001b[0m     results, dims\u001b[39m=\u001b[39m(\u001b[39m\"\u001b[39m\u001b[39mz\u001b[39m\u001b[39m\"\u001b[39m, \u001b[39m\"\u001b[39m\u001b[39mt\u001b[39m\u001b[39m\"\u001b[39m), coords\u001b[39m=\u001b[39m{\u001b[39m\"\u001b[39m\u001b[39mz\u001b[39m\u001b[39m\"\u001b[39m: sample\u001b[39m.\u001b[39mpoints[:, \u001b[39m2\u001b[39m], \u001b[39m\"\u001b[39m\u001b[39mt\u001b[39m\u001b[39m\"\u001b[39m: times}\n\u001b[1;32m    632\u001b[0m )\n\u001b[1;32m    634\u001b[0m \u001b[39mreturn\u001b[39;00m data\n",
      "\u001b[0;31mValueError\u001b[0m: could not broadcast input array from shape (601,3) into shape (601,)"
     ]
    }
   ],
   "source": [
    "import json\n",
    "\n",
    "field = \"grad(h)\"\n",
    "\n",
    "with open(\"../Rosenzweig_2011/fit_ravid/heatmaps_config.json\") as f:\n",
    "    heatmaps_config = json.load(f)\n",
    "\n",
    "default_pcolormesh_kwargs = dict(cmap=\"winter\")\n",
    "pcolormesh_kwargs = heatmaps_config.get(field) or default_pcolormesh_kwargs\n",
    "\n",
    "of.plot_field_over_time(field, pcolormesh_kwargs)"
   ]
  },
  {
   "cell_type": "code",
   "execution_count": null,
   "metadata": {},
   "outputs": [],
   "source": []
  }
 ],
 "metadata": {
  "kernelspec": {
   "display_name": "venv",
   "language": "python",
   "name": "python3"
  },
  "language_info": {
   "codemirror_mode": {
    "name": "ipython",
    "version": 3
   },
   "file_extension": ".py",
   "mimetype": "text/x-python",
   "name": "python",
   "nbconvert_exporter": "python",
   "pygments_lexer": "ipython3",
   "version": "3.10.12"
  },
  "orig_nbformat": 4
 },
 "nbformat": 4,
 "nbformat_minor": 2
}
