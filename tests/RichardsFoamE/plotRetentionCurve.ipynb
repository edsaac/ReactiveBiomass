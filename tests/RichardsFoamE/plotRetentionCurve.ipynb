{
 "cells": [
  {
   "cell_type": "markdown",
   "metadata": {},
   "source": [
    "# The diff from sympy to calculate the capillarity gives an overcomplicated expression. - Also with a different result :S"
   ]
  },
  {
   "cell_type": "code",
   "execution_count": 68,
   "metadata": {},
   "outputs": [],
   "source": [
    "import numpy as np\n",
    "from scipy.integrate import odeint\n",
    "import matplotlib.pyplot as plt\n",
    "from dataclasses import dataclass\n",
    "from scipy.optimize import curve_fit\n",
    "import sympy as sympy\n",
    "from IPython.display import display"
   ]
  },
  {
   "cell_type": "code",
   "execution_count": 69,
   "metadata": {},
   "outputs": [],
   "source": [
    "@dataclass\n",
    "class soilDict:\n",
    "    K_s     : float\n",
    "    theta_s : float\n",
    "    theta_r : float\n",
    "    alpha   : float\n",
    "    nExpon  : float\n",
    "    mExpon  : float = 0\n",
    "    \n",
    "    def __post_init__(self):\n",
    "        self.mExpon = 1.0 - (1.0/self.nExpon)\n"
   ]
  },
  {
   "cell_type": "code",
   "execution_count": 70,
   "metadata": {},
   "outputs": [
    {
     "data": {
      "text/latex": [
       "$\\displaystyle \\left(a x\\right)^{n}$"
      ],
      "text/plain": [
       "(a*x)**n"
      ]
     },
     "metadata": {},
     "output_type": "display_data"
    },
    {
     "data": {
      "text/latex": [
       "$\\displaystyle \\frac{n \\left(a x\\right)^{n}}{x}$"
      ],
      "text/plain": [
       "n*(a*x)**n/x"
      ]
     },
     "metadata": {},
     "output_type": "display_data"
    }
   ],
   "source": [
    "a,x,y,n = sympy.symbols(\"a x y n\")\n",
    "y = (a*x)**n\n",
    "display(y)\n",
    "\n",
    "dy = sympy.diff(y,x).expand().simplify()\n",
    "display(dy)"
   ]
  },
  {
   "cell_type": "code",
   "execution_count": 75,
   "metadata": {},
   "outputs": [
    {
     "data": {
      "text/latex": [
       "$\\displaystyle \\left(\\left(- h α\\right)^{n} + 1\\right)^{- m}$"
      ],
      "text/plain": [
       "((-h*α)**n + 1)**(-m)"
      ]
     },
     "metadata": {},
     "output_type": "display_data"
    }
   ],
   "source": [
    "θ,θs,θr,α,h,n,m = sympy.symbols(\"θ θs θr α h n m\")\n",
    "θe = (1 + (-α*h)**n)**-m\n",
    "display(θe)"
   ]
  },
  {
   "cell_type": "code",
   "execution_count": 78,
   "metadata": {},
   "outputs": [
    {
     "data": {
      "text/latex": [
       "$\\displaystyle - \\frac{m n \\left(- h α\\right)^{n} \\left(- θr + θs\\right) \\left(\\left(- h α\\right)^{n} + 1\\right)^{- m - 1}}{h}$"
      ],
      "text/plain": [
       "-m*n*(-h*α)**n*(-θr + θs)*((-h*α)**n + 1)**(-m - 1)/h"
      ]
     },
     "metadata": {},
     "output_type": "display_data"
    }
   ],
   "source": [
    "# Capillary capacity\n",
    "dθe = sympy.diff(θe, h).simplify() * (θs - θr)\n",
    "display(dθe)"
   ]
  },
  {
   "cell_type": "code",
   "execution_count": 79,
   "metadata": {},
   "outputs": [],
   "source": [
    "soil = soilDict(2.89E-6,0.43,0.078,3.6,1.56)\n",
    "\n",
    "def thetaEffectiveCalc(h,soil): \n",
    "    se = np.where(\n",
    "            h >= 0,\n",
    "            1.0,\n",
    "            np.power(1.0 + np.power(- soil.alpha * h, soil.nExpon), - soil.mExpon)\n",
    "            )\n",
    "    return se\n",
    "\n",
    "def refactorthetaEffectiveCalc(h,soil): \n",
    "    se = np.power(1.0 + np.power(np.maximum(-soil.alpha * h, 0), soil.nExpon), - soil.mExpon)\n",
    "    return se\n",
    "\n",
    "def thetaCalc(h,soil:soilDict):\n",
    "    theta = thetaEffectiveCalc(h,soil) * (soil.theta_s - soil.theta_r) + soil.theta_r   \n",
    "    return theta\n",
    "    \n",
    "def capillaryCalc(h,soil:soilDict):\n",
    "    capillary = np.where(\n",
    "                    h >= 0, \n",
    "                    0.0,\n",
    "                    (soil.theta_s - soil.theta_r) * soil.mExpon * soil.nExpon * soil.alpha * np.power(-soil.alpha * h, soil.nExpon - 1.0) * np.power(1.0 + np.power(-soil.alpha * h, soil.nExpon), - soil.mExpon - 1.0)\n",
    "                    )\n",
    "    return capillary\n",
    "\n",
    "def hydraulicCondCalc(h,soil):\n",
    "    se = thetaEffectiveCalc(h,soil)\n",
    "    kr = np.sqrt(se) * np.power(1 - np.power(1 - np.power(se, 1/soil.mExpon),soil.mExpon),2)\n",
    "    return kr"
   ]
  },
  {
   "cell_type": "code",
   "execution_count": 80,
   "metadata": {},
   "outputs": [
    {
     "name": "stderr",
     "output_type": "stream",
     "text": [
      "/tmp/ipykernel_142899/1394261343.py:7: RuntimeWarning: invalid value encountered in power\n",
      "  np.power(1.0 + np.power(- soil.alpha * h, soil.nExpon), - soil.mExpon)\n"
     ]
    }
   ],
   "source": [
    "hLin = np.linspace(-5,2,200)\n",
    "thetaLin = thetaEffectiveCalc(hLin,soil=soil)\n",
    "thetaLin2 = refactorthetaEffectiveCalc(hLin,soil=soil)"
   ]
  },
  {
   "cell_type": "code",
   "execution_count": 81,
   "metadata": {},
   "outputs": [
    {
     "name": "stderr",
     "output_type": "stream",
     "text": [
      "findfont: Font family ['xkcd', 'xkcd Script', 'Humor Sans', 'Comic Neue', 'Comic Sans MS'] not found. Falling back to DejaVu Sans.\n",
      "findfont: Font family ['xkcd', 'xkcd Script', 'Humor Sans', 'Comic Neue', 'Comic Sans MS'] not found. Falling back to DejaVu Sans.\n",
      "findfont: Font family ['xkcd', 'xkcd Script', 'Humor Sans', 'Comic Neue', 'Comic Sans MS'] not found. Falling back to DejaVu Sans.\n"
     ]
    },
    {
     "data": {
      "image/png": "[encoded data removed]",
      "text/plain": [
       "<Figure size 400x400 with 1 Axes>"
      ]
     },
     "metadata": {},
     "output_type": "display_data"
    }
   ],
   "source": [
    "with plt.xkcd(randomness=1):\n",
    "    fig,axs = plt.subplots(1,1,figsize=[4,4])\n",
    "    ax = axs\n",
    "    ax.plot(hLin,thetaLin,lw=10,alpha=0.3)\n",
    "    ax.plot(hLin,thetaLin2)\n",
    "    ax.axvline(x=-1/soil.alpha)\n",
    "    #ax.axhline(y=soil.theta_r)\n",
    "    ax.set_ylabel(r'$\\theta$',fontsize=20)\n",
    "    ax.set_xlabel(r'$h$',fontsize=20)\n",
    "\n",
    "    # ax = axs[1]\n",
    "    # ax.plot(hLin,capiLin)\n",
    "\n",
    "    # ax = axs[2]\n",
    "    # ax.plot(hLin,permLin)\n",
    "    plt.show()"
   ]
  },
  {
   "cell_type": "code",
   "execution_count": null,
   "metadata": {},
   "outputs": [],
   "source": []
  }
 ],
 "metadata": {
  "kernelspec": {
   "display_name": "Python 3.10.8 ('venv')",
   "language": "python",
   "name": "python3"
  },
  "language_info": {
   "codemirror_mode": {
    "name": "ipython",
    "version": 3
   },
   "file_extension": ".py",
   "mimetype": "text/x-python",
   "name": "python",
   "nbconvert_exporter": "python",
   "pygments_lexer": "ipython3",
   "version": "3.10.8"
  },
  "orig_nbformat": 4,
  "vscode": {
   "interpreter": {
    "hash": "bfb825aa2aa4bf62bfc475bd797298e457bf7ab9eef371f19ce4779beb6b8980"
   }
  }
 },
 "nbformat": 4,
 "nbformat_minor": 2
}
