{
 "cells": [
  {
   "cell_type": "code",
   "execution_count": 3,
   "metadata": {},
   "outputs": [],
   "source": [
    "import numpy as np\n",
    "from scipy.integrate import odeint\n",
    "import matplotlib.pyplot as plt\n",
    "from dataclasses import dataclass\n",
    "from scipy.optimize import curve_fit\n",
    "import sympy as sympy"
   ]
  },
  {
   "cell_type": "code",
   "execution_count": 4,
   "metadata": {},
   "outputs": [],
   "source": [
    "@dataclass\n",
    "class soilDict:\n",
    "    K_s     : float\n",
    "    theta_s : float\n",
    "    theta_r : float\n",
    "    alpha   : float\n",
    "    nExpon  : float\n",
    "    mExpon  : float = 0\n",
    "    \n",
    "    def __post_init__(self):\n",
    "        self.mExpon = 1.0 - (1.0/self.nExpon)\n"
   ]
  },
  {
   "cell_type": "code",
   "execution_count": 13,
   "metadata": {},
   "outputs": [],
   "source": [
    "theta,theta_s,theta_r,alpha,h,n,m = sympy.symbols(\"theta theta_s theta_r alpha h n m\")"
   ]
  },
  {
   "cell_type": "code",
   "execution_count": 20,
   "metadata": {},
   "outputs": [],
   "source": [
    "expr = (theta_s - theta_r) * (1 + (-alpha*h)**n)**-m + theta_r"
   ]
  },
  {
   "cell_type": "code",
   "execution_count": 22,
   "metadata": {},
   "outputs": [
    {
     "data": {
      "text/latex": [
       "$\\displaystyle \\left(\\left(- \\alpha h\\right)^{n} + 1\\right)^{- m}$"
      ],
      "text/plain": [
       "((-alpha*h)**n + 1)**(-m)"
      ]
     },
     "execution_count": 22,
     "metadata": {},
     "output_type": "execute_result"
    }
   ],
   "source": [
    "theta_e = sympy.symbols(\"theta_e\")\n",
    "theta_e = (1 + (-alpha*h)**n)**-m\n",
    "theta_e"
   ]
  },
  {
   "cell_type": "code",
   "execution_count": 23,
   "metadata": {},
   "outputs": [
    {
     "data": {
      "text/latex": [
       "$\\displaystyle \\theta_{r} + \\left(- \\theta_{r} + \\theta_{s}\\right) \\left(\\left(- \\alpha h\\right)^{n} + 1\\right)^{- m}$"
      ],
      "text/plain": [
       "theta_r + (-theta_r + theta_s)/((-alpha*h)**n + 1)**m"
      ]
     },
     "execution_count": 23,
     "metadata": {},
     "output_type": "execute_result"
    }
   ],
   "source": [
    "expr"
   ]
  },
  {
   "cell_type": "code",
   "execution_count": 24,
   "metadata": {},
   "outputs": [
    {
     "data": {
      "text/latex": [
       "$\\displaystyle - \\frac{m n \\left(- \\alpha h\\right)^{n} \\left(- \\theta_{r} + \\theta_{s}\\right) \\left(\\left(- \\alpha h\\right)^{n} + 1\\right)^{- m}}{h \\left(\\left(- \\alpha h\\right)^{n} + 1\\right)}$"
      ],
      "text/plain": [
       "-m*n*(-alpha*h)**n*(-theta_r + theta_s)/(h*((-alpha*h)**n + 1)*((-alpha*h)**n + 1)**m)"
      ]
     },
     "execution_count": 24,
     "metadata": {},
     "output_type": "execute_result"
    }
   ],
   "source": [
    "sympy.diff(expr,h)"
   ]
  },
  {
   "cell_type": "code",
   "execution_count": null,
   "metadata": {},
   "outputs": [],
   "source": [
    "soil = soilDict(2.89E-6,0.43,0.078,3.6,1.56)\n",
    "\n",
    "def thetaEffectiveCalc(h,soil): \n",
    "    se = np.where(\n",
    "            h >= 0,\n",
    "            1.0,\n",
    "            np.power(1.0 + np.power(- soil.alpha * h, soil.nExpon), - soil.mExpon)\n",
    "            )\n",
    "    return se\n",
    "\n",
    "def refactorthetaEffectiveCalc(h,soil): \n",
    "    se = np.power(1.0 + np.power(np.maximum(-soil.alpha * h, 0), soil.nExpon), - soil.mExpon)\n",
    "    return se\n",
    "\n",
    "def thetaCalc(h,soil:soilDict):\n",
    "    theta = thetaEffectiveCalc(h,soil) * (soil.theta_s - soil.theta_r) + soil.theta_r   \n",
    "    return theta\n",
    "    \n",
    "def capillaryCalc(h,soil:soilDict):\n",
    "    capillary = np.where(\n",
    "                    h >= 0, \n",
    "                    0.0,\n",
    "                    (soil.theta_s - soil.theta_r) * soil.mExpon * soil.nExpon * soil.alpha * np.power(-soil.alpha * h, soil.nExpon - 1.0) * np.power(1.0 + np.power(-soil.alpha * h, soil.nExpon), - soil.mExpon - 1.0)\n",
    "                    )\n",
    "    return capillary\n",
    "\n",
    "def hydraulicCondCalc(h,soil):\n",
    "    se = thetaEffectiveCalc(h,soil)\n",
    "    kr = np.sqrt(se) * np.power(1 - np.power(1 - np.power(se, 1/soil.mExpon),soil.mExpon),2)\n",
    "    return kr"
   ]
  },
  {
   "cell_type": "code",
   "execution_count": null,
   "metadata": {},
   "outputs": [],
   "source": [
    "hLin = np.linspace(-5,2,200)\n",
    "thetaLin = thetaEffectiveCalc(hLin,soil=soil)\n",
    "thetaLin2 = refactorthetaEffectiveCalc(hLin,soil=soil)"
   ]
  },
  {
   "cell_type": "code",
   "execution_count": null,
   "metadata": {},
   "outputs": [],
   "source": [
    "fig,axs = plt.subplots(1,1,figsize=[8,8])\n",
    "ax = axs\n",
    "ax.plot(hLin,thetaLin)\n",
    "#ax.plot(hLin,thetaLin2)\n",
    "#ax.axhline(y=soil.theta_s)\n",
    "#ax.axhline(y=soil.theta_r)\n",
    "ax.set(ylabel=r'$\\theta$',xlabel=r'$h$')\n",
    "\n",
    "# ax = axs[1]\n",
    "# ax.plot(hLin,capiLin)\n",
    "\n",
    "# ax = axs[2]\n",
    "# ax.plot(hLin,permLin)\n",
    "plt.show()"
   ]
  },
  {
   "cell_type": "code",
   "execution_count": null,
   "metadata": {},
   "outputs": [],
   "source": []
  }
 ],
 "metadata": {
  "kernelspec": {
   "display_name": "Python 3.9.5 ('venv')",
   "language": "python",
   "name": "python3"
  },
  "language_info": {
   "codemirror_mode": {
    "name": "ipython",
    "version": 3
   },
   "file_extension": ".py",
   "mimetype": "text/x-python",
   "name": "python",
   "nbconvert_exporter": "python",
   "pygments_lexer": "ipython3",
   "version": "3.9.5"
  },
  "orig_nbformat": 4,
  "vscode": {
   "interpreter": {
    "hash": "8f62a988d0078ce54b44b9110a71f93c38ba1feabf8ee2b2fa419091e683527d"
   }
  }
 },
 "nbformat": 4,
 "nbformat_minor": 2
}
