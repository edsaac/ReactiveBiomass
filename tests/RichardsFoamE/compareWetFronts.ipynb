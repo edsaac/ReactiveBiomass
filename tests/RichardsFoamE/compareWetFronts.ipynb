{
 "cells": [
  {
   "cell_type": "code",
   "execution_count": null,
   "metadata": {},
   "outputs": [],
   "source": [
    "import numpy as np\n",
    "import pandas as pd\n",
    "import matplotlib.pyplot as plt\n",
    "import re \n",
    "import os"
   ]
  },
  {
   "cell_type": "markdown",
   "metadata": {},
   "source": [
    "## OpenFoam solver"
   ]
  },
  {
   "cell_type": "code",
   "execution_count": null,
   "metadata": {},
   "outputs": [],
   "source": [
    "probePath = \"./simpleColumn/postProcessing/probes/0.000/h\"\n",
    "widths = [14]*6\n",
    "names = ['Time'] + [f\"Probe {i}\" for i in range(5)]\n",
    "OpenFoamData_h = pd.read_fwf(probePath, widths=widths,skiprows=7,names=names)"
   ]
  },
  {
   "cell_type": "code",
   "execution_count": null,
   "metadata": {},
   "outputs": [],
   "source": [
    "probePath = \"./simpleColumn/postProcessing/probes/0.000/theta\"\n",
    "widths = [14]*6\n",
    "names = ['Time'] + [f\"Probe {i}\" for i in range(5)]\n",
    "OpenFoamData_theta = pd.read_fwf(probePath, widths=widths,skiprows=7,names=names)"
   ]
  },
  {
   "cell_type": "code",
   "execution_count": null,
   "metadata": {},
   "outputs": [],
   "source": [
    "fig,axs = plt.subplots(2,1,sharex=True,figsize=[10,10])\n",
    "for probe in names[2:-1]:\n",
    "    axs[0].plot(OpenFoamData_h['Time']/3600,OpenFoamData_h[probe],label=probe)\n",
    "    axs[1].plot(OpenFoamData_theta['Time']/3600,OpenFoamData_theta[probe],label=probe)\n",
    "\n",
    "for ax in axs:\n",
    "    ax.legend()\n",
    "plt.show()"
   ]
  },
  {
   "cell_type": "markdown",
   "metadata": {},
   "source": [
    "## Hydrus-1D"
   ]
  },
  {
   "cell_type": "code",
   "execution_count": null,
   "metadata": {},
   "outputs": [],
   "source": [
    "probePath = \"./simpleColumn_Hydrus1D/Orgogozo2014/ORGOGOZO/Obs_Node.out\"  \n",
    "with open(probePath,'r') as f:\n",
    "    rawHydrusData = f.readlines()[11:-1]\n",
    "    rawHydrusData = [line.strip() for line in rawHydrusData]\n",
    "    rawHydrusData = [re.sub(\"[ ]+\", \",\", line) for line in rawHydrusData]\n",
    "    rawHydrusData = np.array([[float(i) for i in line.split(\",\")] for line in rawHydrusData])\n",
    "\n",
    "names = ['Time'] + ['head_1','theta_1','flux_1'] + ['head_2','theta_2','flux_2'] + ['head_3','theta_3','flux_3']\n",
    "HydrusData = pd.DataFrame(rawHydrusData,columns=names)"
   ]
  },
  {
   "cell_type": "code",
   "execution_count": null,
   "metadata": {},
   "outputs": [],
   "source": [
    "fig,axs = plt.subplots(2,1,sharex=True,figsize=[10,10])\n",
    "for probe in names[1:]:\n",
    "    if \"head\" in probe:\n",
    "        axs[0].plot(HydrusData['Time'],HydrusData[probe],label=probe)\n",
    "    elif \"theta\" in probe:\n",
    "        axs[1].plot(HydrusData['Time'],HydrusData[probe],label=probe)\n",
    "\n",
    "for ax in axs:\n",
    "    ax.legend()\n",
    "plt.show()"
   ]
  },
  {
   "cell_type": "markdown",
   "metadata": {},
   "source": [
    "## PFLOTRAN"
   ]
  },
  {
   "cell_type": "code",
   "execution_count": null,
   "metadata": {},
   "outputs": [],
   "source": [
    "probePath = \"./simpleColumn_PFLOTRAN/100_z-obs-0.pft\"\n",
    "with open(probePath,'r') as f:\n",
    "    names = f.readline()\n",
    "names = names.lstrip().replace('\"','').replace('\\n','').split(\",\")\n",
    "names = [re.sub(\"[\\(].*?[\\)]\", \"\", name) for name in names]\n",
    "widths = [14]*len(names)\n",
    "\n",
    "PFLOTRANData = pd.read_fwf(probePath, widths=widths, skiprows=1,names=names)\n",
    "#PFLOTRANData[\"h (m)\"] = (PFLOTRANData[\"Liquid Pressure Pa\"]-101325)/9806.38"
   ]
  },
  {
   "cell_type": "code",
   "execution_count": null,
   "metadata": {},
   "outputs": [],
   "source": [
    "fig,axs = plt.subplots(2,1,sharex=True,figsize=[10,10])\n",
    "for probe in names[1:]:\n",
    "    if \"Pressure\" in probe:\n",
    "        axs[0].plot(PFLOTRANData['Time [hour]'],PFLOTRANData[probe],label=probe)\n",
    "    elif \"Saturation\" in probe:\n",
    "        axs[1].plot(PFLOTRANData['Time [hour]'],PFLOTRANData[probe],label=probe)\n",
    "\n",
    "for ax in axs:\n",
    "    ax.legend()\n",
    "plt.show()"
   ]
  },
  {
   "cell_type": "markdown",
   "metadata": {},
   "source": [
    "## RichardsFoam3"
   ]
  },
  {
   "cell_type": "code",
   "execution_count": null,
   "metadata": {},
   "outputs": [],
   "source": [
    "probePath = \"./simpleColumn_RichardsFoam/postProcessing/probes/0/H\"\n",
    "widths = [14]*6\n",
    "names = ['Time'] + [f\"Probe {i}\" for i in range(5)]\n",
    "RichardsFoamData_h = pd.read_fwf(probePath, widths=widths,skiprows=7,names=names)\n",
    "\n",
    "RichardsFoamData_h[\"Probe 1\"] = RichardsFoamData_h[\"Probe 1\"] + 0.25 - 1\n",
    "RichardsFoamData_h[\"Probe 2\"] = RichardsFoamData_h[\"Probe 2\"] + 0.50 - 1\n",
    "RichardsFoamData_h[\"Probe 3\"] = RichardsFoamData_h[\"Probe 3\"] + 0.75 - 1"
   ]
  },
  {
   "cell_type": "code",
   "execution_count": null,
   "metadata": {},
   "outputs": [],
   "source": [
    "probePath = \"./simpleColumn_RichardsFoam/postProcessing/probes/0/theta\"\n",
    "widths = [14]*6\n",
    "names = ['Time'] + [f\"Probe {i}\" for i in range(5)]\n",
    "RichardsFoamData_theta = pd.read_fwf(probePath, widths=widths,skiprows=7,names=names)"
   ]
  },
  {
   "cell_type": "code",
   "execution_count": null,
   "metadata": {},
   "outputs": [],
   "source": [
    "fig,axs = plt.subplots(2,1,sharex=True,figsize=[10,10])\n",
    "for probe in names[2:-1]:\n",
    "    axs[0].plot(RichardsFoamData_h['Time']/3600,RichardsFoamData_h[probe],label=probe)\n",
    "    axs[1].plot(RichardsFoamData_theta['Time']/3600,RichardsFoamData_theta[probe],label=probe)\n",
    "\n",
    "for ax in axs:\n",
    "    ax.legend()\n",
    "plt.show()"
   ]
  },
  {
   "cell_type": "markdown",
   "metadata": {},
   "source": [
    "## Head comparison"
   ]
  },
  {
   "cell_type": "code",
   "execution_count": null,
   "metadata": {},
   "outputs": [],
   "source": [
    "with plt.xkcd(scale=0.1, length=50, randomness=1):\n",
    "#with plt.style.context('seaborn-deep'):\n",
    "    fig,axs = plt.subplots(3,figsize=(8,10),tight_layout=True,sharex=True)\n",
    "    for ax,probe in zip(axs,OpenFoamData_h.columns[2:-1]):\n",
    "        ax.plot(OpenFoamData_h['Time']/3600,OpenFoamData_h[probe],lw=3,label=\"OpenFoam\")\n",
    "    \n",
    "    for ax,probe in zip(axs,[i for i in HydrusData.columns[1:] if \"head\" in i]):\n",
    "        ax.plot(HydrusData['Time']/3600,HydrusData[probe],ls='dashed',c='k',lw=2,label=\"Hydrus 1D\")\n",
    "\n",
    "    for ax,probe in zip(axs,[i for i in PFLOTRANData.columns[1:] if \"Pressure\" in i]):\n",
    "        ax.plot(PFLOTRANData['Time [hour]'],(PFLOTRANData[probe]-101325)/9806.38,ls='dotted',c='g',lw=2, label=\"PFLOTRAN\")\n",
    "\n",
    "    for ax,probe in zip(axs,RichardsFoamData_h.columns[2:-1]):\n",
    "        ax.plot(RichardsFoamData_h['Time']/3600,RichardsFoamData_h[probe],c='r',lw=1.5, label=\"Orgogozo\")\n",
    "    \n",
    "    ax.set_xlabel(\"Time(h)\",fontsize=18)\n",
    "\n",
    "    for ax in axs:\n",
    "        ax.set_ylabel(\"h(m)\",fontsize=18)    \n",
    "        ax.set_xlim([0,15])\n",
    "        ax.set_ylim([-1.05,.05])\n",
    "        ax.spines['top'].set_visible(False)\n",
    "        ax.spines['right'].set_visible(False)\n",
    "    \n",
    "    for ax,depth in zip(axs,(25,50,75)):\n",
    "        ax.legend(title=f\"Probe at z = {depth}\",fontsize=14,title_fontsize=16)\n",
    "    \n",
    "    fileForPNG = f\"CompareWetFronts.png\"\n",
    "    #fig.savefig(fileForPNG);\n",
    "    #os.system(f\"xclip -se c -t image/png -i {fileForPNG}\") # Does not work when ssh\n",
    "    \n",
    "    plt.show()"
   ]
  },
  {
   "cell_type": "markdown",
   "metadata": {},
   "source": [
    "## Water content comparison"
   ]
  },
  {
   "cell_type": "code",
   "execution_count": null,
   "metadata": {},
   "outputs": [],
   "source": [
    "with plt.xkcd(scale=0.1, length=50, randomness=1):\n",
    "#with plt.style.context('seaborn-deep'):\n",
    "    fig,axs = plt.subplots(3,figsize=(10,12))\n",
    "    for ax,probe in zip(axs,OpenFoamData_theta.columns[2:-1]):\n",
    "        ax.plot(OpenFoamData_theta['Time']/3600,OpenFoamData_theta[probe],label=\"OpenFoam\")\n",
    "    \n",
    "    for ax,probe in zip(axs,[i for i in HydrusData.columns[1:] if \"theta\" in i]):\n",
    "        ax.plot(HydrusData['Time']/3600,HydrusData[probe],ls='dashed',c='k',lw=2,label=\"Hydrus 1D\")\n",
    "\n",
    "    for ax,probe in zip(axs,[i for i in PFLOTRANData.columns[1:] if \"Saturation\" in i]):\n",
    "        ax.plot(PFLOTRANData['Time [hour]'],PFLOTRANData[probe]*0.430,ls='dotted',c='g',lw=2, label=\"PFLOTRAN\")\n",
    "\n",
    "    for ax,probe in zip(axs,RichardsFoamData_theta.columns[2:-1]):\n",
    "        ax.plot(RichardsFoamData_theta['Time']/3600,RichardsFoamData_theta[probe],c='r',lw=1, label=\"Orgogozo\")\n",
    "    \n",
    "    ax.set_xlabel(\"Time(h)\",fontsize=18)\n",
    "\n",
    "    for ax in axs:\n",
    "        ax.set_ylabel(r\"$\\theta$ (-)\",fontsize=18)    \n",
    "        ax.set_xlim([0,15])\n",
    "        ax.set_ylim([0.20,0.45])\n",
    "        ax.spines['top'].set_visible(False)\n",
    "        ax.spines['right'].set_visible(False)\n",
    "    \n",
    "    for ax,depth in zip(axs,(25,50,75)):\n",
    "        ax.legend(title=f\"Probe at z = {depth} cm\",fontsize=14,title_fontsize=16)\n",
    "    \n",
    "    plt.show()"
   ]
  },
  {
   "cell_type": "code",
   "execution_count": null,
   "metadata": {},
   "outputs": [],
   "source": [
    "plt.plot(HydrusData['theta_2'],HydrusData['head_2'],lw=1)\n",
    "plt.plot(PFLOTRANData['Liquid Saturation 50cm ']*0.43,(PFLOTRANData['Liquid Pressure [Pa] 50cm ']-101325)/9806.38, lw=2)\n",
    "plt.plot(RichardsFoamData_theta['Probe 2'], RichardsFoamData_h['Probe 2'],lw=3)\n",
    "plt.plot(OpenFoamData_theta['Probe 2'],OpenFoamData_h['Probe 2'])\n",
    "plt.show()"
   ]
  },
  {
   "cell_type": "code",
   "execution_count": null,
   "metadata": {},
   "outputs": [],
   "source": [
    "OpenFoamData_h"
   ]
  },
  {
   "cell_type": "code",
   "execution_count": null,
   "metadata": {},
   "outputs": [],
   "source": [
    "HydrusData"
   ]
  },
  {
   "cell_type": "code",
   "execution_count": null,
   "metadata": {},
   "outputs": [],
   "source": []
  }
 ],
 "metadata": {
  "kernelspec": {
   "display_name": "Python 3.9.5 ('venv')",
   "language": "python",
   "name": "python3"
  },
  "language_info": {
   "codemirror_mode": {
    "name": "ipython",
    "version": 3
   },
   "file_extension": ".py",
   "mimetype": "text/x-python",
   "name": "python",
   "nbconvert_exporter": "python",
   "pygments_lexer": "ipython3",
   "version": "3.9.5"
  },
  "orig_nbformat": 4,
  "vscode": {
   "interpreter": {
    "hash": "8745827b8ace5aa9f8514c7dcb1c7418dc481f93708e9ef16221a27b380291a0"
   }
  }
 },
 "nbformat": 4,
 "nbformat_minor": 2
}
